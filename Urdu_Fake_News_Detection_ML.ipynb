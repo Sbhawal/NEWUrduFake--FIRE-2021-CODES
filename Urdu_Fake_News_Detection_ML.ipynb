{
 "cells": [
  {
   "cell_type": "code",
   "execution_count": 1,
   "metadata": {
    "id": "khb-39d0pb6L"
   },
   "outputs": [],
   "source": [
    "import pandas as pd\n",
    "import numpy as np"
   ]
  },
  {
   "cell_type": "code",
   "execution_count": 2,
   "metadata": {
    "id": "E-Fcxum9pfak"
   },
   "outputs": [],
   "source": [
    "df_train = pd.read_csv('/content/drive/MyDrive/Urdu/urdu_train.csv')\n",
    "df_val = pd.read_csv(\"/content/drive/MyDrive/Urdu/urdu_val.csv\")"
   ]
  },
  {
   "cell_type": "code",
   "execution_count": 3,
   "metadata": {
    "colab": {
     "base_uri": "https://localhost:8080/",
     "height": 205
    },
    "id": "oJacMwsNqSHe",
    "outputId": "beb79f44-184f-4f3a-c0a5-155bf74a637a"
   },
   "outputs": [
    {
     "data": {
      "text/html": [
       "<div>\n",
       "<style scoped>\n",
       "    .dataframe tbody tr th:only-of-type {\n",
       "        vertical-align: middle;\n",
       "    }\n",
       "\n",
       "    .dataframe tbody tr th {\n",
       "        vertical-align: top;\n",
       "    }\n",
       "\n",
       "    .dataframe thead th {\n",
       "        text-align: right;\n",
       "    }\n",
       "</style>\n",
       "<table border=\"1\" class=\"dataframe\">\n",
       "  <thead>\n",
       "    <tr style=\"text-align: right;\">\n",
       "      <th></th>\n",
       "      <th>text</th>\n",
       "      <th>label</th>\n",
       "    </tr>\n",
       "  </thead>\n",
       "  <tbody>\n",
       "    <tr>\n",
       "      <th>0</th>\n",
       "      <td>نئی دہلی 4 دسمبر (سیاست ڈاٹ کام ) ہندوستانی کر...</td>\n",
       "      <td>R</td>\n",
       "    </tr>\n",
       "    <tr>\n",
       "      <th>1</th>\n",
       "      <td>کچے دودھ سے خطرناک جین پھیل سکتے ہیں، تحقیق کی...</td>\n",
       "      <td>R</td>\n",
       "    </tr>\n",
       "    <tr>\n",
       "      <th>2</th>\n",
       "      <td>لندن(سپورٹس ڈیسک)ای سی بی کے نیشنل سلیکٹر ایڈ...</td>\n",
       "      <td>R</td>\n",
       "    </tr>\n",
       "    <tr>\n",
       "      <th>3</th>\n",
       "      <td>دنیا کی پہلی مصنوعی’ ’تھری ڈی‘‘ آنکھ ہانگ کان...</td>\n",
       "      <td>R</td>\n",
       "    </tr>\n",
       "    <tr>\n",
       "      <th>4</th>\n",
       "      <td>ممبئی  موٹاپے میں مبتلا ہونے والے بالی ووڈ اد...</td>\n",
       "      <td>F</td>\n",
       "    </tr>\n",
       "  </tbody>\n",
       "</table>\n",
       "</div>"
      ],
      "text/plain": [
       "                                                text label\n",
       "0  نئی دہلی 4 دسمبر (سیاست ڈاٹ کام ) ہندوستانی کر...     R\n",
       "1  کچے دودھ سے خطرناک جین پھیل سکتے ہیں، تحقیق کی...     R\n",
       "2   لندن(سپورٹس ڈیسک)ای سی بی کے نیشنل سلیکٹر ایڈ...     R\n",
       "3  دنیا کی پہلی مصنوعی’ ’تھری ڈی‘‘ آنکھ ہانگ کان...     R\n",
       "4   ممبئی  موٹاپے میں مبتلا ہونے والے بالی ووڈ اد...     F"
      ]
     },
     "execution_count": 3,
     "metadata": {},
     "output_type": "execute_result"
    }
   ],
   "source": [
    "df_train.head()"
   ]
  },
  {
   "cell_type": "code",
   "execution_count": 4,
   "metadata": {
    "colab": {
     "base_uri": "https://localhost:8080/"
    },
    "id": "k_JOH2TxqSKJ",
    "outputId": "18a53b6d-7fd5-4623-8c34-89cf8cfc0232"
   },
   "outputs": [
    {
     "name": "stdout",
     "output_type": "stream",
     "text": [
      "(1038, 2)\n"
     ]
    },
    {
     "data": {
      "text/plain": [
       "R    150\n",
       "F    112\n",
       "Name: label, dtype: int64"
      ]
     },
     "execution_count": 4,
     "metadata": {},
     "output_type": "execute_result"
    }
   ],
   "source": [
    "print(df_train.shape)\n",
    "\n",
    "df_val.label.value_counts()"
   ]
  },
  {
   "cell_type": "code",
   "execution_count": 5,
   "metadata": {
    "id": "qREQkJhqpfb-"
   },
   "outputs": [],
   "source": [
    "from sklearn.metrics import confusion_matrix\n",
    "from sklearn import metrics\n",
    "\n",
    "from sklearn.linear_model import LogisticRegression\n",
    "from sklearn.metrics import confusion_matrix,classification_report\n",
    "\n",
    "\n",
    "from sklearn.metrics import accuracy_score\n",
    "from sklearn.metrics import precision_score\n",
    "from sklearn.metrics import f1_score\n",
    "from sklearn.metrics import recall_score\n",
    "\n",
    "from sklearn.model_selection import train_test_split\n",
    "# X_train, X_test, y_train, y_test = train_test_split(x, y, test_size=0.2)"
   ]
  },
  {
   "cell_type": "code",
   "execution_count": 6,
   "metadata": {
    "id": "ItIkiMKCqPdW"
   },
   "outputs": [],
   "source": [
    "df_train_Tweet = pd.DataFrame(df_train.text)\n",
    "df_val_Tweet = pd.DataFrame(df_val.text)\n",
    "\n",
    "df_train_Label = pd.DataFrame(df_train.label)\n",
    "df_val_Label = pd.DataFrame(df_val.label)\n"
   ]
  },
  {
   "cell_type": "code",
   "execution_count": 7,
   "metadata": {
    "colab": {
     "base_uri": "https://localhost:8080/"
    },
    "id": "hJZbtXyqpfcm",
    "outputId": "7b535243-41f8-432d-99e4-35a4e04d7aea"
   },
   "outputs": [
    {
     "name": "stdout",
     "output_type": "stream",
     "text": [
      "(1038, 1) (262, 1)\n"
     ]
    }
   ],
   "source": [
    "print(df_train_Tweet.shape,df_val_Label.shape)"
   ]
  },
  {
   "cell_type": "code",
   "execution_count": 8,
   "metadata": {
    "id": "o8gmghLHpfdP"
   },
   "outputs": [],
   "source": [
    "import re, string\n",
    "regex = re.compile('[%s]' % re.escape(string.punctuation))\n",
    "\n",
    "def preprocessing(document):\n",
    "        document = regex.sub(' ', document)\n",
    "        document = re.sub(r'[0-9]', '', document)\n",
    "        document = re.sub(r'\\s+[a-zA-Z]\\s+', ' ', document)\n",
    "        document = re.sub(r'\\s+', ' ', document, flags=re.I)\n",
    "        return document\n",
    "    \n"
   ]
  },
  {
   "cell_type": "code",
   "execution_count": 9,
   "metadata": {
    "id": "LR_wZE5rpfd5"
   },
   "outputs": [],
   "source": [
    "corpus_train = df_train_Tweet.text.apply(preprocessing)\n",
    "corpus_val = df_val_Tweet.text.apply(preprocessing)"
   ]
  },
  {
   "cell_type": "code",
   "execution_count": 9,
   "metadata": {
    "id": "hMOG2wozpfeh"
   },
   "outputs": [],
   "source": []
  },
  {
   "cell_type": "code",
   "execution_count": 10,
   "metadata": {
    "colab": {
     "base_uri": "https://localhost:8080/"
    },
    "id": "_KNPaQ-mpffF",
    "outputId": "e22fa69d-66f8-4095-89e8-ead20820713e"
   },
   "outputs": [
    {
     "data": {
      "text/plain": [
       "(1038, 17000)"
      ]
     },
     "execution_count": 10,
     "metadata": {},
     "output_type": "execute_result"
    }
   ],
   "source": [
    "from sklearn.feature_extraction.text import TfidfVectorizer\n",
    "cv = TfidfVectorizer(ngram_range=(1,5))\n",
    "cv = TfidfVectorizer(max_features=17000)\n",
    "X_train = cv.fit_transform(corpus_train).toarray()\n",
    "X_test = cv.transform(corpus_val).toarray()\n",
    "X_train.shape"
   ]
  },
  {
   "cell_type": "code",
   "execution_count": 11,
   "metadata": {
    "id": "8vmq4jChpfgf"
   },
   "outputs": [],
   "source": [
    "# Feature Scaling\n",
    "from sklearn.preprocessing import StandardScaler,MinMaxScaler\n",
    "sc = MinMaxScaler()\n",
    "X_train = sc.fit_transform(X_train)\n",
    "X_test = sc.transform(X_test)"
   ]
  },
  {
   "cell_type": "code",
   "execution_count": 11,
   "metadata": {
    "id": "oI2TwIoVpfh4"
   },
   "outputs": [],
   "source": []
  },
  {
   "cell_type": "markdown",
   "metadata": {
    "id": "5zcOrYYtr1em"
   },
   "source": [
    "## LOGISTIC REGRESSION"
   ]
  },
  {
   "cell_type": "code",
   "execution_count": 12,
   "metadata": {
    "colab": {
     "base_uri": "https://localhost:8080/"
    },
    "id": "ZBh_Co9Xr2rd",
    "outputId": "e306f7a6-2db3-4495-fb71-b7d22734a38d"
   },
   "outputs": [
    {
     "name": "stderr",
     "output_type": "stream",
     "text": [
      "[Parallel(n_jobs=4)]: Using backend LokyBackend with 4 concurrent workers.\n",
      "[Parallel(n_jobs=4)]: Done   1 out of   1 | elapsed:    7.6s finished\n"
     ]
    },
    {
     "data": {
      "text/plain": [
       "LogisticRegression(C=1, class_weight=None, dual=False, fit_intercept=True,\n",
       "                   intercept_scaling=1, l1_ratio=None, max_iter=250,\n",
       "                   multi_class='multinomial', n_jobs=4, penalty='l2',\n",
       "                   random_state=None, solver='lbfgs', tol=0.0001, verbose=3,\n",
       "                   warm_start=False)"
      ]
     },
     "execution_count": 12,
     "metadata": {},
     "output_type": "execute_result"
    }
   ],
   "source": [
    "#training - Logistic regression\n",
    "from sklearn.linear_model import LogisticRegression\n",
    "classifier = LogisticRegression(multi_class='multinomial', solver='lbfgs',verbose=3,max_iter=250,penalty='l2',C=1,n_jobs=4)\n",
    "classifier.fit(X_train , np.ravel(df_train_Label))"
   ]
  },
  {
   "cell_type": "code",
   "execution_count": 13,
   "metadata": {
    "colab": {
     "base_uri": "https://localhost:8080/"
    },
    "id": "UcdP-Q98pfiu",
    "outputId": "36de940f-fc80-4a86-fe95-f5a811d5944b"
   },
   "outputs": [
    {
     "data": {
      "text/plain": [
       "0.7519083969465649"
      ]
     },
     "execution_count": 13,
     "metadata": {},
     "output_type": "execute_result"
    }
   ],
   "source": [
    "y_pred = classifier.predict(X_test)\n",
    "\n",
    "from sklearn.metrics import accuracy_score\n",
    "accuracy = accuracy_score(df_val_Label , y_pred)\n",
    "accuracy"
   ]
  },
  {
   "cell_type": "code",
   "execution_count": 14,
   "metadata": {
    "colab": {
     "base_uri": "https://localhost:8080/"
    },
    "id": "pBo8XNA4pfjX",
    "outputId": "14cf6ac3-8dde-41ef-b13a-531a6e700cca"
   },
   "outputs": [
    {
     "name": "stdout",
     "output_type": "stream",
     "text": [
      "              precision    recall  f1-score   support\n",
      "\n",
      "           F       0.84      0.52      0.64       112\n",
      "           R       0.72      0.93      0.81       150\n",
      "\n",
      "    accuracy                           0.75       262\n",
      "   macro avg       0.78      0.72      0.73       262\n",
      "weighted avg       0.77      0.75      0.74       262\n",
      "\n"
     ]
    }
   ],
   "source": [
    "print(classification_report(df_val_Label,y_pred))"
   ]
  },
  {
   "cell_type": "markdown",
   "metadata": {
    "id": "Mp9XNOd7vCOU"
   },
   "source": [
    "## RANDOM FOREST"
   ]
  },
  {
   "cell_type": "code",
   "execution_count": 15,
   "metadata": {
    "colab": {
     "base_uri": "https://localhost:8080/"
    },
    "id": "DJePwRKZpflG",
    "outputId": "a60f46e0-01f2-433f-a536-a8dbf3acf1a8"
   },
   "outputs": [
    {
     "data": {
      "text/plain": [
       "RandomForestClassifier(bootstrap=True, ccp_alpha=0.0, class_weight=None,\n",
       "                       criterion='gini', max_depth=100, max_features='auto',\n",
       "                       max_leaf_nodes=None, max_samples=None,\n",
       "                       min_impurity_decrease=0.0, min_impurity_split=None,\n",
       "                       min_samples_leaf=1, min_samples_split=2,\n",
       "                       min_weight_fraction_leaf=0.0, n_estimators=100,\n",
       "                       n_jobs=None, oob_score=False, random_state=0, verbose=0,\n",
       "                       warm_start=False)"
      ]
     },
     "execution_count": 15,
     "metadata": {},
     "output_type": "execute_result"
    }
   ],
   "source": [
    "# Fitting Random Forest Classification to the Training set\n",
    "from sklearn.ensemble import RandomForestClassifier\n",
    "classifier = RandomForestClassifier(n_estimators = 100, criterion = 'gini', random_state = 0 , max_depth=100)\n",
    "classifier.fit(X_train , np.ravel(df_train_Label))"
   ]
  },
  {
   "cell_type": "code",
   "execution_count": 16,
   "metadata": {
    "colab": {
     "base_uri": "https://localhost:8080/"
    },
    "id": "x5lKW2COpflr",
    "outputId": "3eb8f2f5-8364-4a94-c0e9-4adcd8919337"
   },
   "outputs": [
    {
     "data": {
      "text/plain": [
       "0.6412213740458015"
      ]
     },
     "execution_count": 16,
     "metadata": {},
     "output_type": "execute_result"
    }
   ],
   "source": [
    "y_pred = classifier.predict(X_test)\n",
    "\n",
    "from sklearn.metrics import accuracy_score\n",
    "accuracy = accuracy_score(df_val_Label , y_pred)\n",
    "accuracy"
   ]
  },
  {
   "cell_type": "code",
   "execution_count": 17,
   "metadata": {
    "colab": {
     "base_uri": "https://localhost:8080/"
    },
    "id": "zGS7SNDlpfmV",
    "outputId": "37fee59c-e742-4a2a-db2e-ee4777e120e8"
   },
   "outputs": [
    {
     "name": "stdout",
     "output_type": "stream",
     "text": [
      "              precision    recall  f1-score   support\n",
      "\n",
      "           F       0.64      0.38      0.47       112\n",
      "           R       0.64      0.84      0.73       150\n",
      "\n",
      "    accuracy                           0.64       262\n",
      "   macro avg       0.64      0.61      0.60       262\n",
      "weighted avg       0.64      0.64      0.62       262\n",
      "\n"
     ]
    }
   ],
   "source": [
    "print(classification_report(df_val_Label,y_pred))"
   ]
  },
  {
   "cell_type": "markdown",
   "metadata": {
    "id": "F5lbH-Ytvdck"
   },
   "source": [
    "## NAIVE BAYES"
   ]
  },
  {
   "cell_type": "code",
   "execution_count": 18,
   "metadata": {
    "colab": {
     "base_uri": "https://localhost:8080/"
    },
    "id": "ALj1BBKEpfno",
    "outputId": "54320b1f-54b8-4b3d-b802-1e09f4b65f21"
   },
   "outputs": [
    {
     "data": {
      "text/plain": [
       "MultinomialNB(alpha=1, class_prior=None, fit_prior=True)"
      ]
     },
     "execution_count": 18,
     "metadata": {},
     "output_type": "execute_result"
    }
   ],
   "source": [
    "#Naive bayes classification\n",
    "from sklearn.naive_bayes import MultinomialNB\n",
    "\n",
    "classifier = MultinomialNB(alpha = 1 , fit_prior=True, class_prior=None)\n",
    "classifier.fit(X_train , np.ravel(df_train_Label))"
   ]
  },
  {
   "cell_type": "code",
   "execution_count": 19,
   "metadata": {
    "colab": {
     "base_uri": "https://localhost:8080/"
    },
    "id": "aPBQ9-BipfoT",
    "outputId": "b62bfe3a-c6a3-4564-f9aa-93c42bb0e6e1"
   },
   "outputs": [
    {
     "data": {
      "text/plain": [
       "0.7213740458015268"
      ]
     },
     "execution_count": 19,
     "metadata": {},
     "output_type": "execute_result"
    }
   ],
   "source": [
    "y_pred = classifier.predict(X_test)\n",
    "\n",
    "from sklearn.metrics import accuracy_score\n",
    "accuracy = accuracy_score(df_val_Label , y_pred)\n",
    "accuracy"
   ]
  },
  {
   "cell_type": "code",
   "execution_count": 20,
   "metadata": {
    "colab": {
     "base_uri": "https://localhost:8080/"
    },
    "id": "PvVVkvk0pfpA",
    "outputId": "b9386a9a-1771-41c0-e212-a1bae2e083c4"
   },
   "outputs": [
    {
     "name": "stdout",
     "output_type": "stream",
     "text": [
      "              precision    recall  f1-score   support\n",
      "\n",
      "           F       0.81      0.46      0.58       112\n",
      "           R       0.69      0.92      0.79       150\n",
      "\n",
      "    accuracy                           0.72       262\n",
      "   macro avg       0.75      0.69      0.69       262\n",
      "weighted avg       0.74      0.72      0.70       262\n",
      "\n"
     ]
    }
   ],
   "source": [
    "print(classification_report(df_val_Label,y_pred))"
   ]
  },
  {
   "cell_type": "markdown",
   "metadata": {
    "id": "1ZGEIN8kw1pZ"
   },
   "source": [
    "## XGBOOST"
   ]
  },
  {
   "cell_type": "code",
   "execution_count": 21,
   "metadata": {
    "id": "PDOHizjLpfqj"
   },
   "outputs": [],
   "source": [
    "from numpy import loadtxt\n",
    "from xgboost import XGBClassifier\n",
    "from sklearn.model_selection import train_test_split\n",
    "from sklearn.metrics import accuracy_score"
   ]
  },
  {
   "cell_type": "code",
   "execution_count": 22,
   "metadata": {
    "colab": {
     "base_uri": "https://localhost:8080/"
    },
    "id": "o5UnEFXFpfrQ",
    "outputId": "77af4fb8-2e1a-4eef-8cfa-fa9eaeefd12b"
   },
   "outputs": [
    {
     "data": {
      "text/plain": [
       "XGBClassifier(base_score=0.5, booster='gbtree', colsample_bylevel=1,\n",
       "              colsample_bynode=1, colsample_bytree=1, gamma=0,\n",
       "              learning_rate=0.1, max_delta_step=0, max_depth=3,\n",
       "              min_child_weight=1, missing=None, n_estimators=100, n_jobs=1,\n",
       "              nthread=None, objective='binary:logistic', random_state=0,\n",
       "              reg_alpha=0, reg_lambda=1, scale_pos_weight=1, seed=None,\n",
       "              silent=None, subsample=1, verbosity=1)"
      ]
     },
     "execution_count": 22,
     "metadata": {},
     "output_type": "execute_result"
    }
   ],
   "source": [
    "classifier = XGBClassifier()\n",
    "classifier.fit(X_train , np.ravel(df_train_Label))"
   ]
  },
  {
   "cell_type": "code",
   "execution_count": 23,
   "metadata": {
    "colab": {
     "base_uri": "https://localhost:8080/"
    },
    "id": "5Vj6epMCpfsC",
    "outputId": "7ec29fd7-5c41-4440-dd6a-47f67f000346"
   },
   "outputs": [
    {
     "data": {
      "text/plain": [
       "0.7175572519083969"
      ]
     },
     "execution_count": 23,
     "metadata": {},
     "output_type": "execute_result"
    }
   ],
   "source": [
    "y_pred = classifier.predict(X_test)\n",
    "\n",
    "from sklearn.metrics import accuracy_score\n",
    "accuracy = accuracy_score(df_val_Label , y_pred)\n",
    "accuracy"
   ]
  },
  {
   "cell_type": "code",
   "execution_count": 24,
   "metadata": {
    "colab": {
     "base_uri": "https://localhost:8080/"
    },
    "id": "61Q693DApfsw",
    "outputId": "b1d5d774-168a-4155-ad6d-fae4b06e5a1a"
   },
   "outputs": [
    {
     "name": "stdout",
     "output_type": "stream",
     "text": [
      "              precision    recall  f1-score   support\n",
      "\n",
      "           F       0.76      0.49      0.60       112\n",
      "           R       0.70      0.89      0.78       150\n",
      "\n",
      "    accuracy                           0.72       262\n",
      "   macro avg       0.73      0.69      0.69       262\n",
      "weighted avg       0.73      0.72      0.70       262\n",
      "\n"
     ]
    }
   ],
   "source": [
    "print(classification_report(df_val_Label,y_pred))"
   ]
  },
  {
   "cell_type": "markdown",
   "metadata": {
    "id": "xmzwgpLJx27Q"
   },
   "source": [
    "## SVM"
   ]
  },
  {
   "cell_type": "code",
   "execution_count": 25,
   "metadata": {
    "colab": {
     "base_uri": "https://localhost:8080/"
    },
    "id": "feVIt18fpfuK",
    "outputId": "97980432-f87f-418e-952d-add5723f8b87"
   },
   "outputs": [
    {
     "data": {
      "text/plain": [
       "SVC(C=1.0, break_ties=False, cache_size=200, class_weight=None, coef0=0.0,\n",
       "    decision_function_shape='ovr', degree=3, gamma='scale', kernel='rbf',\n",
       "    max_iter=-1, probability=False, random_state=123, shrinking=True, tol=0.001,\n",
       "    verbose=False)"
      ]
     },
     "execution_count": 25,
     "metadata": {},
     "output_type": "execute_result"
    }
   ],
   "source": [
    "from sklearn.svm import SVC\n",
    "classifier=SVC(random_state=123)\n",
    "classifier.fit(X_train , np.ravel(df_train_Label))"
   ]
  },
  {
   "cell_type": "code",
   "execution_count": 26,
   "metadata": {
    "colab": {
     "base_uri": "https://localhost:8080/"
    },
    "id": "a9JLv_B2pfux",
    "outputId": "564ea813-f09a-4ad2-e81b-f9cf38b5ed5e"
   },
   "outputs": [
    {
     "data": {
      "text/plain": [
       "0.5916030534351145"
      ]
     },
     "execution_count": 26,
     "metadata": {},
     "output_type": "execute_result"
    }
   ],
   "source": [
    "y_pred = classifier.predict(X_test)\n",
    "\n",
    "from sklearn.metrics import accuracy_score\n",
    "accuracy = accuracy_score(df_val_Label , y_pred)\n",
    "accuracy"
   ]
  },
  {
   "cell_type": "code",
   "execution_count": 27,
   "metadata": {
    "colab": {
     "base_uri": "https://localhost:8080/"
    },
    "id": "Lgi9Am1Jpfvc",
    "outputId": "1b4bd107-b11d-4375-e0f2-cc9e5b65d579"
   },
   "outputs": [
    {
     "name": "stdout",
     "output_type": "stream",
     "text": [
      "              precision    recall  f1-score   support\n",
      "\n",
      "           F       1.00      0.04      0.09       112\n",
      "           R       0.58      1.00      0.74       150\n",
      "\n",
      "    accuracy                           0.59       262\n",
      "   macro avg       0.79      0.52      0.41       262\n",
      "weighted avg       0.76      0.59      0.46       262\n",
      "\n"
     ]
    }
   ],
   "source": [
    "print(classification_report(df_val_Label,y_pred))"
   ]
  }
 ],
 "metadata": {
  "colab": {
   "collapsed_sections": [],
   "name": "Hate Speech Detection ML.ipynb",
   "provenance": []
  },
  "kernelspec": {
   "display_name": "Python 3",
   "language": "python",
   "name": "python3"
  },
  "language_info": {
   "codemirror_mode": {
    "name": "ipython",
    "version": 3
   },
   "file_extension": ".py",
   "mimetype": "text/x-python",
   "name": "python",
   "nbconvert_exporter": "python",
   "pygments_lexer": "ipython3",
   "version": "3.8.8"
  }
 },
 "nbformat": 4,
 "nbformat_minor": 1
}
