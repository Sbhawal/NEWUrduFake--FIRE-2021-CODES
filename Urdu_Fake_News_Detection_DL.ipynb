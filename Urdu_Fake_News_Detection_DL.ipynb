{
 "cells": [
  {
   "cell_type": "markdown",
   "metadata": {
    "id": "_ekXH12g7koR"
   },
   "source": [
    "## Imports"
   ]
  },
  {
   "cell_type": "code",
   "execution_count": null,
   "metadata": {
    "id": "pUNxky4J7fv2"
   },
   "outputs": [],
   "source": [
    "import pandas as pd\n",
    "import numpy as np\n",
    "\n",
    "import keras\n",
    "\n",
    "from sklearn.metrics import confusion_matrix\n",
    "from sklearn import metrics\n",
    "\n",
    "from sklearn.linear_model import LogisticRegression\n",
    "from sklearn.metrics import confusion_matrix,classification_report\n",
    "\n",
    "\n",
    "from sklearn.metrics import accuracy_score\n",
    "from sklearn.metrics import precision_score\n",
    "from sklearn.metrics import f1_score\n",
    "from sklearn.metrics import recall_score\n",
    "\n",
    "from sklearn.model_selection import train_test_split\n",
    "\n",
    "import tensorflow as tf\n",
    "import keras"
   ]
  },
  {
   "cell_type": "markdown",
   "metadata": {
    "id": "lzkLOWk37pyl"
   },
   "source": [
    "## Loading Datasets"
   ]
  },
  {
   "cell_type": "code",
   "execution_count": null,
   "metadata": {
    "id": "p2Ibkfi-RAmt"
   },
   "outputs": [],
   "source": [
    "df_train = pd.read_csv('/content/drive/MyDrive/Urdu/urdu_train.csv')\n",
    "df_val = pd.read_csv(\"/content/drive/MyDrive/Urdu/urdu_val.csv\")"
   ]
  },
  {
   "cell_type": "code",
   "execution_count": null,
   "metadata": {
    "id": "MqYyf_0VRAxt"
   },
   "outputs": [],
   "source": [
    "df_train_Tweet = pd.DataFrame(df_train.text)\n",
    "df_val_Tweet = pd.DataFrame(df_val.text)\n",
    "df_train_Label = pd.DataFrame(df_train.label)\n",
    "df_val_Label = pd.DataFrame(df_val.label)\n"
   ]
  },
  {
   "cell_type": "markdown",
   "metadata": {
    "id": "xN5elRlk7vHl"
   },
   "source": [
    "## Preprocessing"
   ]
  },
  {
   "cell_type": "code",
   "execution_count": null,
   "metadata": {
    "id": "AvjLH2h7RA2r"
   },
   "outputs": [],
   "source": [
    "import re, string\n",
    "regex = re.compile('[%s]' % re.escape(string.punctuation))\n",
    "\n",
    "def preprocessing(document):\n",
    "        document = regex.sub(' ', document)\n",
    "        document = re.sub(r'[0-9]', '', document)\n",
    "        document = re.sub(r'\\s+[a-zA-Z]\\s+', ' ', document)             # remove all single characters\n",
    "        document = re.sub(r'\\s+', ' ', document, flags=re.I)            # Substituting multiple spaces with single space\n",
    "        return document\n",
    "    \n"
   ]
  },
  {
   "cell_type": "code",
   "execution_count": null,
   "metadata": {
    "id": "AI1DpadeRA5y"
   },
   "outputs": [],
   "source": [
    "corpus_train = df_train_Tweet.text.apply(preprocessing)\n",
    "corpus_val = df_val_Tweet.text.apply(preprocessing)"
   ]
  },
  {
   "cell_type": "markdown",
   "metadata": {
    "id": "snkw8dOE78OU"
   },
   "source": [
    "## TF-IDF Vectorization"
   ]
  },
  {
   "cell_type": "code",
   "execution_count": null,
   "metadata": {
    "colab": {
     "base_uri": "https://localhost:8080/"
    },
    "id": "1UTNr2EKRA7U",
    "outputId": "fb489a04-ab9e-4d85-a4a6-320a18f909ea"
   },
   "outputs": [
    {
     "data": {
      "text/plain": [
       "(1038, 15000)"
      ]
     },
     "execution_count": 6,
     "metadata": {},
     "output_type": "execute_result"
    }
   ],
   "source": [
    "from sklearn.feature_extraction.text import TfidfVectorizer\n",
    "cv = TfidfVectorizer(ngram_range=(1,5))\n",
    "cv = TfidfVectorizer(max_features=15000)\n",
    "X_train = cv.fit_transform(corpus_train).toarray()\n",
    "X_test = cv.transform(corpus_val).toarray()\n",
    "X_train.shape"
   ]
  },
  {
   "cell_type": "code",
   "execution_count": null,
   "metadata": {
    "id": "secKHXePRA83"
   },
   "outputs": [],
   "source": [
    "# Feature Scaling\n",
    "from sklearn.preprocessing import StandardScaler,MinMaxScaler\n",
    "sc = MinMaxScaler()\n",
    "X_train = sc.fit_transform(X_train)\n",
    "X_test = sc.transform(X_test)"
   ]
  },
  {
   "cell_type": "markdown",
   "metadata": {
    "id": "jOLFo92T8E2H"
   },
   "source": [
    "## Label Encoding"
   ]
  },
  {
   "cell_type": "code",
   "execution_count": null,
   "metadata": {
    "id": "TGgbNDJ1RA_3"
   },
   "outputs": [],
   "source": [
    "Y_train = np.ravel(df_train_Label)\n",
    "Y_test = np.ravel(df_val_Label)\n",
    "\n",
    "from sklearn import preprocessing\n",
    "le = preprocessing.LabelEncoder()\n",
    "le.fit(Y_train)\n",
    "Y_train = le.transform(Y_train)\n",
    "Y_test = le.transform(Y_test)"
   ]
  },
  {
   "cell_type": "markdown",
   "metadata": {
    "id": "3T2ka5AM8JAR"
   },
   "source": [
    "#Model Creation and Validation"
   ]
  },
  {
   "cell_type": "markdown",
   "metadata": {
    "id": "-z2cAVXGZsem"
   },
   "source": [
    "## SIMPLE ANN"
   ]
  },
  {
   "cell_type": "code",
   "execution_count": null,
   "metadata": {
    "id": "ZXU7w1lXRBDL"
   },
   "outputs": [],
   "source": [
    "from keras.models import Sequential\n",
    "from keras import layers\n",
    "\n",
    "input_dim = X_train.shape[1]  # Number of features\n",
    "\n",
    "model = Sequential()\n",
    "model.add(layers.Dense(512, input_dim=input_dim, activation='relu'))\n",
    "model.add(layers.Dense(256, input_dim=input_dim, activation='relu'))\n",
    "model.add(layers.Dense(128, input_dim=input_dim, activation='relu'))\n",
    "model.add(layers.Dense(1, activation='sigmoid'))"
   ]
  },
  {
   "cell_type": "code",
   "execution_count": null,
   "metadata": {
    "colab": {
     "base_uri": "https://localhost:8080/"
    },
    "id": "EPF3Ona1RBE3",
    "outputId": "6c13c077-b953-4d57-a85a-2caef9613d4d"
   },
   "outputs": [
    {
     "name": "stdout",
     "output_type": "stream",
     "text": [
      "Model: \"sequential\"\n",
      "_________________________________________________________________\n",
      "Layer (type)                 Output Shape              Param #   \n",
      "=================================================================\n",
      "dense (Dense)                (None, 512)               7680512   \n",
      "_________________________________________________________________\n",
      "dense_1 (Dense)              (None, 256)               131328    \n",
      "_________________________________________________________________\n",
      "dense_2 (Dense)              (None, 128)               32896     \n",
      "_________________________________________________________________\n",
      "dense_3 (Dense)              (None, 1)                 129       \n",
      "=================================================================\n",
      "Total params: 7,844,865\n",
      "Trainable params: 7,844,865\n",
      "Non-trainable params: 0\n",
      "_________________________________________________________________\n"
     ]
    }
   ],
   "source": [
    "\n",
    "optimizer = tf.keras.optimizers.Adam(learning_rate=3e-5)\n",
    "model.compile(optimizer=optimizer,\n",
    "              loss='binary_crossentropy',\n",
    "              metrics=['accuracy'])\n",
    "model.summary()"
   ]
  },
  {
   "cell_type": "code",
   "execution_count": null,
   "metadata": {
    "id": "imIQ7RNljwyY"
   },
   "outputs": [],
   "source": [
    "model_save_path='/content/m1'\n",
    "\n",
    "callbacks = [keras.callbacks.ModelCheckpoint(filepath=model_save_path,save_weights_only=True,monitor='val_accuracy',mode='max',save_best_only=True)]"
   ]
  },
  {
   "cell_type": "code",
   "execution_count": null,
   "metadata": {
    "colab": {
     "base_uri": "https://localhost:8080/"
    },
    "id": "dUd1G1cmRBGd",
    "outputId": "66dbb1c1-65c4-4609-dba3-4d0855552fce"
   },
   "outputs": [
    {
     "name": "stdout",
     "output_type": "stream",
     "text": [
      "Epoch 1/30\n",
      "35/35 [==============================] - 1s 15ms/step - loss: 0.6913 - accuracy: 0.5539 - val_loss: 0.6875 - val_accuracy: 0.5802\n",
      "Epoch 2/30\n",
      "35/35 [==============================] - 0s 8ms/step - loss: 0.6714 - accuracy: 0.6002 - val_loss: 0.6816 - val_accuracy: 0.5725\n",
      "Epoch 3/30\n",
      "35/35 [==============================] - 0s 8ms/step - loss: 0.6499 - accuracy: 0.5992 - val_loss: 0.6751 - val_accuracy: 0.5725\n",
      "Epoch 4/30\n",
      "35/35 [==============================] - 0s 9ms/step - loss: 0.6227 - accuracy: 0.6233 - val_loss: 0.6679 - val_accuracy: 0.5725\n",
      "Epoch 5/30\n",
      "35/35 [==============================] - 0s 9ms/step - loss: 0.5857 - accuracy: 0.7052 - val_loss: 0.6582 - val_accuracy: 0.5725\n",
      "Epoch 6/30\n",
      "35/35 [==============================] - 0s 8ms/step - loss: 0.5352 - accuracy: 0.8044 - val_loss: 0.6480 - val_accuracy: 0.5840\n",
      "Epoch 7/30\n",
      "35/35 [==============================] - 0s 9ms/step - loss: 0.4670 - accuracy: 0.9133 - val_loss: 0.6338 - val_accuracy: 0.5954\n",
      "Epoch 8/30\n",
      "35/35 [==============================] - 0s 8ms/step - loss: 0.3831 - accuracy: 0.9509 - val_loss: 0.6102 - val_accuracy: 0.6527\n",
      "Epoch 9/30\n",
      "35/35 [==============================] - 0s 8ms/step - loss: 0.2943 - accuracy: 0.9827 - val_loss: 0.6154 - val_accuracy: 0.6679\n",
      "Epoch 10/30\n",
      "35/35 [==============================] - 0s 8ms/step - loss: 0.2130 - accuracy: 0.9923 - val_loss: 0.6101 - val_accuracy: 0.6908\n",
      "Epoch 11/30\n",
      "35/35 [==============================] - 0s 8ms/step - loss: 0.1494 - accuracy: 0.9952 - val_loss: 0.6308 - val_accuracy: 0.6985\n",
      "Epoch 12/30\n",
      "35/35 [==============================] - 0s 9ms/step - loss: 0.1049 - accuracy: 0.9961 - val_loss: 0.6674 - val_accuracy: 0.7061\n",
      "Epoch 13/30\n",
      "35/35 [==============================] - 0s 8ms/step - loss: 0.0752 - accuracy: 0.9981 - val_loss: 0.6485 - val_accuracy: 0.7405\n",
      "Epoch 14/30\n",
      "35/35 [==============================] - 0s 9ms/step - loss: 0.0562 - accuracy: 1.0000 - val_loss: 0.6843 - val_accuracy: 0.7405\n",
      "Epoch 15/30\n",
      "35/35 [==============================] - 0s 10ms/step - loss: 0.0431 - accuracy: 0.9990 - val_loss: 0.7491 - val_accuracy: 0.7176\n",
      "Epoch 16/30\n",
      "35/35 [==============================] - 0s 8ms/step - loss: 0.0342 - accuracy: 1.0000 - val_loss: 0.7164 - val_accuracy: 0.7481\n",
      "Epoch 17/30\n",
      "35/35 [==============================] - 0s 10ms/step - loss: 0.0272 - accuracy: 1.0000 - val_loss: 0.7611 - val_accuracy: 0.7405\n",
      "Epoch 18/30\n",
      "35/35 [==============================] - 0s 8ms/step - loss: 0.0224 - accuracy: 1.0000 - val_loss: 0.7727 - val_accuracy: 0.7405\n",
      "Epoch 19/30\n",
      "35/35 [==============================] - 0s 9ms/step - loss: 0.0189 - accuracy: 1.0000 - val_loss: 0.8116 - val_accuracy: 0.7405\n",
      "Epoch 20/30\n",
      "35/35 [==============================] - 0s 9ms/step - loss: 0.0159 - accuracy: 1.0000 - val_loss: 0.8140 - val_accuracy: 0.7443\n",
      "Epoch 21/30\n",
      "35/35 [==============================] - 0s 9ms/step - loss: 0.0135 - accuracy: 1.0000 - val_loss: 0.8623 - val_accuracy: 0.7366\n",
      "Epoch 22/30\n",
      "35/35 [==============================] - 0s 9ms/step - loss: 0.0117 - accuracy: 1.0000 - val_loss: 0.8515 - val_accuracy: 0.7481\n",
      "Epoch 23/30\n",
      "35/35 [==============================] - 0s 9ms/step - loss: 0.0101 - accuracy: 1.0000 - val_loss: 0.8401 - val_accuracy: 0.7634\n",
      "Epoch 24/30\n",
      "35/35 [==============================] - 0s 10ms/step - loss: 0.0090 - accuracy: 1.0000 - val_loss: 0.8920 - val_accuracy: 0.7481\n",
      "Epoch 25/30\n",
      "35/35 [==============================] - 0s 9ms/step - loss: 0.0078 - accuracy: 1.0000 - val_loss: 0.9005 - val_accuracy: 0.7519\n",
      "Epoch 26/30\n",
      "35/35 [==============================] - 0s 9ms/step - loss: 0.0072 - accuracy: 1.0000 - val_loss: 0.9049 - val_accuracy: 0.7595\n",
      "Epoch 27/30\n",
      "35/35 [==============================] - 0s 9ms/step - loss: 0.0062 - accuracy: 1.0000 - val_loss: 0.9349 - val_accuracy: 0.7519\n",
      "Epoch 28/30\n",
      "35/35 [==============================] - 0s 9ms/step - loss: 0.0056 - accuracy: 1.0000 - val_loss: 0.9420 - val_accuracy: 0.7557\n",
      "Epoch 29/30\n",
      "35/35 [==============================] - 0s 8ms/step - loss: 0.0051 - accuracy: 1.0000 - val_loss: 0.9391 - val_accuracy: 0.7595\n",
      "Epoch 30/30\n",
      "35/35 [==============================] - 0s 8ms/step - loss: 0.0046 - accuracy: 1.0000 - val_loss: 0.9712 - val_accuracy: 0.7557\n"
     ]
    }
   ],
   "source": [
    "history = model.fit(X_train, Y_train,\n",
    "                     epochs=40,\n",
    "                     verbose=1,\n",
    "                     validation_data=(X_test, Y_test),\n",
    "                     batch_size=30,\n",
    "                    callbacks=callbacks)"
   ]
  },
  {
   "cell_type": "code",
   "execution_count": null,
   "metadata": {
    "colab": {
     "base_uri": "https://localhost:8080/"
    },
    "id": "GKCc-YKZRBH5",
    "outputId": "0d1cbcce-d1fe-4759-ebf7-c61aef33d3b7"
   },
   "outputs": [
    {
     "name": "stdout",
     "output_type": "stream",
     "text": [
      "              precision    recall  f1-score   support\n",
      "\n",
      "           F       0.92      0.49      0.64       112\n",
      "           R       0.72      0.97      0.82       150\n",
      "\n",
      "    accuracy                           0.76       262\n",
      "   macro avg       0.82      0.73      0.73       262\n",
      "weighted avg       0.80      0.76      0.75       262\n",
      "\n"
     ]
    }
   ],
   "source": [
    "model.load_weights(model_save_path)\n",
    "import keras\n",
    "class_names = df_train.label.unique()\n",
    "y_pred = model.predict(X_test)>0.5\n",
    "y_pred = [str(x[0]).replace(\"False\",\"0\").replace(\"True\",\"1\") for x in y_pred]\n",
    "y_pred = [int(x) for x in y_pred]\n",
    "\n",
    "y_pred = le.inverse_transform(y_pred)\n",
    "print(classification_report(df_val_Label,y_pred))"
   ]
  },
  {
   "cell_type": "code",
   "execution_count": null,
   "metadata": {
    "id": "T8tLCpo3RBOZ"
   },
   "outputs": [],
   "source": []
  },
  {
   "cell_type": "markdown",
   "metadata": {
    "id": "dgdzCoiyeQ1o"
   },
   "source": [
    "###Creating padded sequences"
   ]
  },
  {
   "cell_type": "code",
   "execution_count": null,
   "metadata": {
    "colab": {
     "base_uri": "https://localhost:8080/"
    },
    "id": "8xgLDOMSRBP3",
    "outputId": "fe5880f7-f541-4798-a7cc-0bc25e833b99"
   },
   "outputs": [
    {
     "name": "stdout",
     "output_type": "stream",
     "text": [
      " لندن سپورٹس ڈیسک ای سی بی کے نیشنل سلیکٹر ایڈ سمتھ کا کہنا ہے کہ جانی بیئرسٹو اور معین علی سمیت کسی کھلاڑی پر ٹیم کے دروازے بند نہیں کئے گئے بلکہ ویسٹ انڈیز کیخلاف پہلے ٹیسٹ کیلئے منتخب شدہ سکواڈ اس بات کا عکس ہے کہ انہیں سفید گیند کے میچز میں قابل غور سمجھا جائیگا۔ انہوں نے تصدیق کی کہ آنیوالے دنوں میں وائٹ بال میچز کے دوران معین علی اور جانی بیئرسٹو کو ایکشن میں دیکھا جا سکے گا ۔ ایڈ سمتھ کا کہنا تھا کہ اگر دونوں کھلاڑی ٹیسٹ سکواڈ سے باہر ہوئے تو یہ اس اعتبار سے ایک اچھی بات ہے کہ انہیں وائٹ بال میچز کے دوران پورا موقع دیا جائیگا۔ \n",
      "117\n"
     ]
    }
   ],
   "source": [
    "from keras.preprocessing.text import Tokenizer\n",
    "\n",
    "tokenizer = Tokenizer(num_words=15000)\n",
    "tokenizer.fit_on_texts(corpus_train)\n",
    "\n",
    "X_train = tokenizer.texts_to_sequences(corpus_train)\n",
    "X_test = tokenizer.texts_to_sequences(corpus_val)\n",
    "\n",
    "vocab_size = len(tokenizer.word_index) + 1  # Adding 1 because of reserved 0 index\n",
    "\n",
    "print(corpus_train[2])\n",
    "print(len(X_train[2]))"
   ]
  },
  {
   "cell_type": "code",
   "execution_count": null,
   "metadata": {
    "id": "I64k25U1RBRc"
   },
   "outputs": [],
   "source": [
    "from keras.preprocessing.sequence import pad_sequences\n",
    "\n",
    "maxlen = 512\n",
    "\n",
    "X_train = pad_sequences(X_train, padding='post', maxlen=maxlen)\n",
    "X_test = pad_sequences(X_test, padding='post', maxlen=maxlen)"
   ]
  },
  {
   "cell_type": "code",
   "execution_count": null,
   "metadata": {
    "id": "LOTVxZXA8rfy"
   },
   "outputs": [],
   "source": []
  },
  {
   "cell_type": "markdown",
   "metadata": {
    "id": "FgNwLW258r2g"
   },
   "source": [
    "## ANN with Embedding matrix"
   ]
  },
  {
   "cell_type": "code",
   "execution_count": null,
   "metadata": {
    "id": "YI0Q1BjQRBS8"
   },
   "outputs": [],
   "source": [
    "from keras.models import Sequential\n",
    "from keras import layers\n",
    "\n",
    "embedding_dim = 100\n",
    "\n",
    "model = Sequential()\n",
    "model.add(layers.Embedding(input_dim=vocab_size, \n",
    "                           output_dim=embedding_dim, \n",
    "                           input_length=maxlen))\n",
    "model.add(layers.Flatten())\n",
    "model.add(layers.Dense(512, activation='relu'))\n",
    "model.add(layers.Dense(256, activation='relu'))\n",
    "model.add(layers.Dense(128, activation='relu'))\n",
    "model.add(layers.Dense(1, activation='sigmoid'))\n"
   ]
  },
  {
   "cell_type": "code",
   "execution_count": null,
   "metadata": {
    "colab": {
     "base_uri": "https://localhost:8080/"
    },
    "id": "aefJF1EH7Tw6",
    "outputId": "f5fb8e4b-bf0a-4929-94c0-64277c665dd4"
   },
   "outputs": [
    {
     "name": "stdout",
     "output_type": "stream",
     "text": [
      "Model: \"sequential_1\"\n",
      "_________________________________________________________________\n",
      "Layer (type)                 Output Shape              Param #   \n",
      "=================================================================\n",
      "embedding (Embedding)        (None, 512, 100)          2049700   \n",
      "_________________________________________________________________\n",
      "flatten (Flatten)            (None, 51200)             0         \n",
      "_________________________________________________________________\n",
      "dense_4 (Dense)              (None, 512)               26214912  \n",
      "_________________________________________________________________\n",
      "dense_5 (Dense)              (None, 256)               131328    \n",
      "_________________________________________________________________\n",
      "dense_6 (Dense)              (None, 128)               32896     \n",
      "_________________________________________________________________\n",
      "dense_7 (Dense)              (None, 1)                 129       \n",
      "=================================================================\n",
      "Total params: 28,428,965\n",
      "Trainable params: 28,428,965\n",
      "Non-trainable params: 0\n",
      "_________________________________________________________________\n"
     ]
    }
   ],
   "source": [
    "optimizer = tf.keras.optimizers.Adam(learning_rate=3e-4)\n",
    "model.compile(optimizer=optimizer,\n",
    "              loss='binary_crossentropy',\n",
    "              metrics=['accuracy'])\n",
    "model.summary()"
   ]
  },
  {
   "cell_type": "code",
   "execution_count": null,
   "metadata": {
    "id": "R0x33qvPwd48"
   },
   "outputs": [],
   "source": [
    "model_save_path='/content/m2'\n",
    "\n",
    "callbacks = [keras.callbacks.ModelCheckpoint(filepath=model_save_path,save_weights_only=True,monitor='val_accuracy',mode='max',save_best_only=True)]"
   ]
  },
  {
   "cell_type": "code",
   "execution_count": null,
   "metadata": {
    "colab": {
     "base_uri": "https://localhost:8080/"
    },
    "id": "RiDWccEnRBUa",
    "outputId": "5d01f771-28df-443b-a20f-bec57c197048"
   },
   "outputs": [
    {
     "name": "stdout",
     "output_type": "stream",
     "text": [
      "Epoch 1/30\n",
      "33/33 [==============================] - 2s 28ms/step - loss: 0.6854 - accuracy: 0.5694 - val_loss: 0.6768 - val_accuracy: 0.5496\n",
      "Epoch 2/30\n",
      "33/33 [==============================] - 1s 23ms/step - loss: 0.5766 - accuracy: 0.6272 - val_loss: 0.7356 - val_accuracy: 0.5649\n",
      "Epoch 3/30\n",
      "33/33 [==============================] - 1s 21ms/step - loss: 0.3819 - accuracy: 0.8536 - val_loss: 0.7853 - val_accuracy: 0.5458\n",
      "Epoch 4/30\n",
      "33/33 [==============================] - 1s 21ms/step - loss: 0.0691 - accuracy: 0.9913 - val_loss: 0.8325 - val_accuracy: 0.5687\n",
      "Epoch 5/30\n",
      "33/33 [==============================] - 1s 23ms/step - loss: 0.0054 - accuracy: 1.0000 - val_loss: 0.9625 - val_accuracy: 0.5840\n",
      "Epoch 6/30\n",
      "33/33 [==============================] - 1s 21ms/step - loss: 0.0013 - accuracy: 1.0000 - val_loss: 0.9908 - val_accuracy: 0.5763\n",
      "Epoch 7/30\n",
      "33/33 [==============================] - 1s 21ms/step - loss: 6.3869e-04 - accuracy: 1.0000 - val_loss: 0.9975 - val_accuracy: 0.5687\n",
      "Epoch 8/30\n",
      "33/33 [==============================] - 1s 22ms/step - loss: 4.1170e-04 - accuracy: 1.0000 - val_loss: 1.0200 - val_accuracy: 0.5725\n",
      "Epoch 9/30\n",
      "33/33 [==============================] - 1s 21ms/step - loss: 2.9241e-04 - accuracy: 1.0000 - val_loss: 1.0413 - val_accuracy: 0.5802\n",
      "Epoch 10/30\n",
      "33/33 [==============================] - 1s 21ms/step - loss: 2.1189e-04 - accuracy: 1.0000 - val_loss: 1.0607 - val_accuracy: 0.5763\n",
      "Epoch 11/30\n",
      "33/33 [==============================] - 1s 21ms/step - loss: 1.6093e-04 - accuracy: 1.0000 - val_loss: 1.0782 - val_accuracy: 0.5802\n",
      "Epoch 12/30\n",
      "33/33 [==============================] - 1s 21ms/step - loss: 1.2559e-04 - accuracy: 1.0000 - val_loss: 1.0968 - val_accuracy: 0.5725\n",
      "Epoch 13/30\n",
      "33/33 [==============================] - 1s 22ms/step - loss: 1.0121e-04 - accuracy: 1.0000 - val_loss: 1.1149 - val_accuracy: 0.5763\n",
      "Epoch 14/30\n",
      "33/33 [==============================] - 1s 21ms/step - loss: 8.2228e-05 - accuracy: 1.0000 - val_loss: 1.1274 - val_accuracy: 0.5763\n",
      "Epoch 15/30\n",
      "33/33 [==============================] - 1s 21ms/step - loss: 6.8521e-05 - accuracy: 1.0000 - val_loss: 1.1436 - val_accuracy: 0.5763\n",
      "Epoch 16/30\n",
      "33/33 [==============================] - 1s 22ms/step - loss: 5.7020e-05 - accuracy: 1.0000 - val_loss: 1.1531 - val_accuracy: 0.5763\n",
      "Epoch 17/30\n",
      "33/33 [==============================] - 1s 21ms/step - loss: 4.8739e-05 - accuracy: 1.0000 - val_loss: 1.1677 - val_accuracy: 0.5763\n",
      "Epoch 18/30\n",
      "33/33 [==============================] - 1s 22ms/step - loss: 4.1649e-05 - accuracy: 1.0000 - val_loss: 1.1756 - val_accuracy: 0.5802\n",
      "Epoch 19/30\n",
      "33/33 [==============================] - 1s 21ms/step - loss: 3.6102e-05 - accuracy: 1.0000 - val_loss: 1.1892 - val_accuracy: 0.5763\n",
      "Epoch 20/30\n",
      "33/33 [==============================] - 1s 21ms/step - loss: 3.1533e-05 - accuracy: 1.0000 - val_loss: 1.1988 - val_accuracy: 0.5763\n",
      "Epoch 21/30\n",
      "33/33 [==============================] - 1s 22ms/step - loss: 2.7762e-05 - accuracy: 1.0000 - val_loss: 1.2096 - val_accuracy: 0.5763\n",
      "Epoch 22/30\n",
      "33/33 [==============================] - 1s 21ms/step - loss: 2.4575e-05 - accuracy: 1.0000 - val_loss: 1.2188 - val_accuracy: 0.5763\n",
      "Epoch 23/30\n",
      "33/33 [==============================] - 1s 21ms/step - loss: 2.1903e-05 - accuracy: 1.0000 - val_loss: 1.2275 - val_accuracy: 0.5763\n",
      "Epoch 24/30\n",
      "33/33 [==============================] - 1s 21ms/step - loss: 1.9627e-05 - accuracy: 1.0000 - val_loss: 1.2363 - val_accuracy: 0.5763\n",
      "Epoch 25/30\n",
      "33/33 [==============================] - 1s 22ms/step - loss: 1.7723e-05 - accuracy: 1.0000 - val_loss: 1.2453 - val_accuracy: 0.5763\n",
      "Epoch 26/30\n",
      "33/33 [==============================] - 1s 22ms/step - loss: 1.6027e-05 - accuracy: 1.0000 - val_loss: 1.2540 - val_accuracy: 0.5763\n",
      "Epoch 27/30\n",
      "33/33 [==============================] - 1s 21ms/step - loss: 1.4554e-05 - accuracy: 1.0000 - val_loss: 1.2616 - val_accuracy: 0.5763\n",
      "Epoch 28/30\n",
      "33/33 [==============================] - 1s 21ms/step - loss: 1.3302e-05 - accuracy: 1.0000 - val_loss: 1.2687 - val_accuracy: 0.5763\n",
      "Epoch 29/30\n",
      "33/33 [==============================] - 1s 21ms/step - loss: 1.2188e-05 - accuracy: 1.0000 - val_loss: 1.2778 - val_accuracy: 0.5763\n",
      "Epoch 30/30\n",
      "33/33 [==============================] - 1s 21ms/step - loss: 1.1192e-05 - accuracy: 1.0000 - val_loss: 1.2831 - val_accuracy: 0.5802\n"
     ]
    }
   ],
   "source": [
    "history = model.fit(X_train, Y_train,\n",
    "                     epochs=15,\n",
    "                     verbose=1,\n",
    "                     validation_data=(X_test, Y_test),\n",
    "                     batch_size=32,\n",
    "                    callbacks=callbacks)"
   ]
  },
  {
   "cell_type": "code",
   "execution_count": null,
   "metadata": {
    "colab": {
     "base_uri": "https://localhost:8080/"
    },
    "id": "7lr2Kg6ARBV3",
    "outputId": "e2d78347-85ad-4227-fe10-1e581c02ba34"
   },
   "outputs": [
    {
     "name": "stdout",
     "output_type": "stream",
     "text": [
      "              precision    recall  f1-score   support\n",
      "\n",
      "           F       0.52      0.30      0.38       112\n",
      "           R       0.60      0.79      0.69       150\n",
      "\n",
      "    accuracy                           0.58       262\n",
      "   macro avg       0.56      0.55      0.54       262\n",
      "weighted avg       0.57      0.58      0.56       262\n",
      "\n"
     ]
    }
   ],
   "source": [
    "model.load_weights(model_save_path)\n",
    "class_names = df_train.label.unique()\n",
    "y_pred = model.predict(X_test)>0.5\n",
    "y_pred = [str(x[0]).replace(\"False\",\"0\").replace(\"True\",\"1\") for x in y_pred]\n",
    "y_pred = [int(x) for x in y_pred]\n",
    "\n",
    "y_pred = le.inverse_transform(y_pred)\n",
    "print(classification_report(df_val_Label,y_pred))"
   ]
  },
  {
   "cell_type": "code",
   "execution_count": null,
   "metadata": {
    "id": "5MWZvmUhlwEO"
   },
   "outputs": [],
   "source": []
  },
  {
   "cell_type": "markdown",
   "metadata": {
    "id": "ass5ZsSZ9UQU"
   },
   "source": [
    "####Reduced dimension to 50"
   ]
  },
  {
   "cell_type": "code",
   "execution_count": null,
   "metadata": {
    "colab": {
     "base_uri": "https://localhost:8080/"
    },
    "id": "jh7jw4DIRBXj",
    "outputId": "e94e9cb1-526f-4156-d3ed-cefdaca00569"
   },
   "outputs": [
    {
     "name": "stdout",
     "output_type": "stream",
     "text": [
      "Model: \"sequential_2\"\n",
      "_________________________________________________________________\n",
      "Layer (type)                 Output Shape              Param #   \n",
      "=================================================================\n",
      "embedding_1 (Embedding)      (None, 512, 50)           1024850   \n",
      "_________________________________________________________________\n",
      "global_max_pooling1d (Global (None, 50)                0         \n",
      "_________________________________________________________________\n",
      "dense_8 (Dense)              (None, 10)                510       \n",
      "_________________________________________________________________\n",
      "dense_9 (Dense)              (None, 1)                 11        \n",
      "=================================================================\n",
      "Total params: 1,025,371\n",
      "Trainable params: 1,025,371\n",
      "Non-trainable params: 0\n",
      "_________________________________________________________________\n"
     ]
    }
   ],
   "source": [
    "from keras.models import Sequential\n",
    "from keras import layers\n",
    "\n",
    "embedding_dim = 50\n",
    "\n",
    "model = Sequential()\n",
    "model.add(layers.Embedding(input_dim=vocab_size, \n",
    "                           output_dim=embedding_dim, \n",
    "                           input_length=maxlen))\n",
    "model.add(layers.GlobalMaxPool1D())\n",
    "model.add(layers.Dense(10, activation='relu'))\n",
    "model.add(layers.Dense(1, activation='sigmoid'))\n",
    "model.compile(optimizer='adam',\n",
    "              loss='binary_crossentropy',\n",
    "              metrics=['accuracy'])\n",
    "model.summary()"
   ]
  },
  {
   "cell_type": "code",
   "execution_count": null,
   "metadata": {
    "id": "5Ug9u7mUwiWG"
   },
   "outputs": [],
   "source": [
    "model_save_path='/content/m3'\n",
    "\n",
    "callbacks = [keras.callbacks.ModelCheckpoint(filepath=model_save_path,save_weights_only=True,monitor='val_accuracy',mode='max',save_best_only=True)]"
   ]
  },
  {
   "cell_type": "code",
   "execution_count": null,
   "metadata": {
    "colab": {
     "base_uri": "https://localhost:8080/"
    },
    "id": "WksLddAGRBZP",
    "outputId": "9b8ca5c1-2c7b-4a7d-900a-9afb7b8cd668"
   },
   "outputs": [
    {
     "name": "stdout",
     "output_type": "stream",
     "text": [
      "Epoch 1/30\n",
      "33/33 [==============================] - 1s 14ms/step - loss: 0.6890 - accuracy: 0.5443 - val_loss: 0.6834 - val_accuracy: 0.5725\n",
      "Epoch 2/30\n",
      "33/33 [==============================] - 0s 8ms/step - loss: 0.6767 - accuracy: 0.5780 - val_loss: 0.6776 - val_accuracy: 0.5725\n",
      "Epoch 3/30\n",
      "33/33 [==============================] - 0s 8ms/step - loss: 0.6659 - accuracy: 0.5780 - val_loss: 0.6718 - val_accuracy: 0.5725\n",
      "Epoch 4/30\n",
      "33/33 [==============================] - 0s 8ms/step - loss: 0.6510 - accuracy: 0.5780 - val_loss: 0.6627 - val_accuracy: 0.5725\n",
      "Epoch 5/30\n",
      "33/33 [==============================] - 0s 8ms/step - loss: 0.6275 - accuracy: 0.5838 - val_loss: 0.6495 - val_accuracy: 0.5802\n",
      "Epoch 6/30\n",
      "33/33 [==============================] - 0s 8ms/step - loss: 0.5909 - accuracy: 0.6879 - val_loss: 0.6308 - val_accuracy: 0.6221\n",
      "Epoch 7/30\n",
      "33/33 [==============================] - 0s 8ms/step - loss: 0.5400 - accuracy: 0.8266 - val_loss: 0.6079 - val_accuracy: 0.6832\n",
      "Epoch 8/30\n",
      "33/33 [==============================] - 0s 8ms/step - loss: 0.4767 - accuracy: 0.8699 - val_loss: 0.5840 - val_accuracy: 0.7061\n",
      "Epoch 9/30\n",
      "33/33 [==============================] - 0s 8ms/step - loss: 0.4085 - accuracy: 0.8960 - val_loss: 0.5675 - val_accuracy: 0.7099\n",
      "Epoch 10/30\n",
      "33/33 [==============================] - 0s 8ms/step - loss: 0.3389 - accuracy: 0.9239 - val_loss: 0.5445 - val_accuracy: 0.7328\n",
      "Epoch 11/30\n",
      "33/33 [==============================] - 0s 8ms/step - loss: 0.2764 - accuracy: 0.9489 - val_loss: 0.5320 - val_accuracy: 0.7328\n",
      "Epoch 12/30\n",
      "33/33 [==============================] - 0s 8ms/step - loss: 0.2200 - accuracy: 0.9653 - val_loss: 0.5302 - val_accuracy: 0.7405\n",
      "Epoch 13/30\n",
      "33/33 [==============================] - 0s 8ms/step - loss: 0.1741 - accuracy: 0.9798 - val_loss: 0.5225 - val_accuracy: 0.7557\n",
      "Epoch 14/30\n",
      "33/33 [==============================] - 0s 8ms/step - loss: 0.1372 - accuracy: 0.9865 - val_loss: 0.5116 - val_accuracy: 0.7519\n",
      "Epoch 15/30\n",
      "33/33 [==============================] - 0s 8ms/step - loss: 0.1094 - accuracy: 0.9942 - val_loss: 0.5268 - val_accuracy: 0.7481\n",
      "Epoch 16/30\n",
      "33/33 [==============================] - 0s 8ms/step - loss: 0.0872 - accuracy: 0.9961 - val_loss: 0.5270 - val_accuracy: 0.7481\n",
      "Epoch 17/30\n",
      "33/33 [==============================] - 0s 8ms/step - loss: 0.0709 - accuracy: 0.9961 - val_loss: 0.5436 - val_accuracy: 0.7481\n",
      "Epoch 18/30\n",
      "33/33 [==============================] - 0s 8ms/step - loss: 0.0581 - accuracy: 1.0000 - val_loss: 0.5395 - val_accuracy: 0.7443\n",
      "Epoch 19/30\n",
      "33/33 [==============================] - 0s 8ms/step - loss: 0.0487 - accuracy: 1.0000 - val_loss: 0.5579 - val_accuracy: 0.7443\n",
      "Epoch 20/30\n",
      "33/33 [==============================] - 0s 8ms/step - loss: 0.0410 - accuracy: 1.0000 - val_loss: 0.5633 - val_accuracy: 0.7405\n",
      "Epoch 21/30\n",
      "33/33 [==============================] - 0s 8ms/step - loss: 0.0353 - accuracy: 0.9990 - val_loss: 0.5648 - val_accuracy: 0.7519\n",
      "Epoch 22/30\n",
      "33/33 [==============================] - 0s 8ms/step - loss: 0.0303 - accuracy: 1.0000 - val_loss: 0.5753 - val_accuracy: 0.7443\n",
      "Epoch 23/30\n",
      "33/33 [==============================] - 0s 8ms/step - loss: 0.0266 - accuracy: 0.9990 - val_loss: 0.5797 - val_accuracy: 0.7519\n",
      "Epoch 24/30\n",
      "33/33 [==============================] - 0s 8ms/step - loss: 0.0234 - accuracy: 1.0000 - val_loss: 0.5945 - val_accuracy: 0.7405\n",
      "Epoch 25/30\n",
      "33/33 [==============================] - 0s 7ms/step - loss: 0.0209 - accuracy: 1.0000 - val_loss: 0.5977 - val_accuracy: 0.7443\n",
      "Epoch 26/30\n",
      "33/33 [==============================] - 0s 8ms/step - loss: 0.0185 - accuracy: 1.0000 - val_loss: 0.6045 - val_accuracy: 0.7481\n",
      "Epoch 27/30\n",
      "33/33 [==============================] - 0s 8ms/step - loss: 0.0168 - accuracy: 1.0000 - val_loss: 0.6119 - val_accuracy: 0.7443\n",
      "Epoch 28/30\n",
      "33/33 [==============================] - 0s 8ms/step - loss: 0.0149 - accuracy: 1.0000 - val_loss: 0.6134 - val_accuracy: 0.7481\n",
      "Epoch 29/30\n",
      "33/33 [==============================] - 0s 7ms/step - loss: 0.0135 - accuracy: 1.0000 - val_loss: 0.6296 - val_accuracy: 0.7405\n",
      "Epoch 30/30\n",
      "33/33 [==============================] - 0s 8ms/step - loss: 0.0121 - accuracy: 1.0000 - val_loss: 0.6323 - val_accuracy: 0.7481\n"
     ]
    }
   ],
   "source": [
    "history = model.fit(X_train, Y_train,\n",
    "                     epochs=25,\n",
    "                     verbose=1,\n",
    "                     validation_data=(X_test, Y_test),\n",
    "                     batch_size=32,\n",
    "                    callbacks=callbacks)"
   ]
  },
  {
   "cell_type": "code",
   "execution_count": null,
   "metadata": {
    "colab": {
     "base_uri": "https://localhost:8080/"
    },
    "id": "vy4AmrppRBa-",
    "outputId": "b5525bcc-5947-4b0b-89a1-2bc1e3ece8be"
   },
   "outputs": [
    {
     "name": "stdout",
     "output_type": "stream",
     "text": [
      "              precision    recall  f1-score   support\n",
      "\n",
      "           F       0.82      0.55      0.66       112\n",
      "           R       0.73      0.91      0.81       150\n",
      "\n",
      "    accuracy                           0.76       262\n",
      "   macro avg       0.77      0.73      0.73       262\n",
      "weighted avg       0.77      0.76      0.75       262\n",
      "\n"
     ]
    }
   ],
   "source": [
    "model.load_weights(model_save_path)\n",
    "class_names = df_train.label.unique()\n",
    "y_pred = model.predict(X_test)>0.5\n",
    "y_pred = [str(x[0]).replace(\"False\",\"0\").replace(\"True\",\"1\") for x in y_pred]\n",
    "y_pred = [int(x) for x in y_pred]\n",
    "\n",
    "y_pred = le.inverse_transform(y_pred)\n",
    "print(classification_report(df_val_Label,y_pred))"
   ]
  },
  {
   "cell_type": "code",
   "execution_count": null,
   "metadata": {
    "id": "IF8DqS6uKzLx"
   },
   "outputs": [],
   "source": []
  },
  {
   "cell_type": "code",
   "execution_count": null,
   "metadata": {
    "id": "bnmyJcECKznP"
   },
   "outputs": [],
   "source": []
  },
  {
   "cell_type": "markdown",
   "metadata": {
    "id": "2ZnufF6Q9elJ"
   },
   "source": [
    "##CNN"
   ]
  },
  {
   "cell_type": "code",
   "execution_count": null,
   "metadata": {
    "colab": {
     "base_uri": "https://localhost:8080/"
    },
    "id": "MDpPfjDjRBmT",
    "outputId": "647252f4-d623-4401-ff61-e8a3ff251c1e"
   },
   "outputs": [
    {
     "name": "stdout",
     "output_type": "stream",
     "text": [
      "Model: \"sequential_3\"\n",
      "_________________________________________________________________\n",
      "Layer (type)                 Output Shape              Param #   \n",
      "=================================================================\n",
      "embedding_2 (Embedding)      (None, 512, 100)          2049700   \n",
      "_________________________________________________________________\n",
      "conv1d (Conv1D)              (None, 512, 64)           19264     \n",
      "_________________________________________________________________\n",
      "global_max_pooling1d_1 (Glob (None, 64)                0         \n",
      "_________________________________________________________________\n",
      "dropout (Dropout)            (None, 64)                0         \n",
      "_________________________________________________________________\n",
      "dense_10 (Dense)             (None, 128)               8320      \n",
      "_________________________________________________________________\n",
      "dense_11 (Dense)             (None, 64)                8256      \n",
      "_________________________________________________________________\n",
      "dense_12 (Dense)             (None, 1)                 65        \n",
      "=================================================================\n",
      "Total params: 2,085,605\n",
      "Trainable params: 2,085,605\n",
      "Non-trainable params: 0\n",
      "_________________________________________________________________\n"
     ]
    }
   ],
   "source": [
    "embedding_dim = 100\n",
    "\n",
    "model = Sequential()\n",
    "model.add(layers.Embedding(vocab_size, embedding_dim, input_length=maxlen))\n",
    "\n",
    "model.add(layers.Conv1D(64,kernel_size=3,padding='same',activation='relu',strides=1))\n",
    "model.add(layers.GlobalMaxPooling1D())\n",
    "model.add(layers.Dropout(0.4))\n",
    "model.add(layers.Dense(128, activation='relu'))\n",
    "model.add(layers.Dense(64, activation='relu'))\n",
    "model.add(layers.Dense(1, activation='sigmoid'))\n",
    "\n",
    "optimizer = tf.keras.optimizers.Adam(learning_rate=3e-4)\n",
    "model.compile(optimizer=optimizer,\n",
    "              loss='binary_crossentropy',\n",
    "              metrics=['accuracy'])\n",
    "model.summary()"
   ]
  },
  {
   "cell_type": "code",
   "execution_count": null,
   "metadata": {
    "id": "7r1wTlb0wl0S"
   },
   "outputs": [],
   "source": [
    "model_save_path='/content/m4'\n",
    "\n",
    "callbacks = [keras.callbacks.ModelCheckpoint(filepath=model_save_path,save_weights_only=True,monitor='val_accuracy',mode='max',save_best_only=True)]"
   ]
  },
  {
   "cell_type": "code",
   "execution_count": null,
   "metadata": {
    "colab": {
     "base_uri": "https://localhost:8080/"
    },
    "id": "n1jWA4vGRBn2",
    "outputId": "2ee5df98-834e-4e5e-8de9-16723df560b8"
   },
   "outputs": [
    {
     "name": "stdout",
     "output_type": "stream",
     "text": [
      "Epoch 1/30\n",
      "33/33 [==============================] - 30s 21ms/step - loss: 0.6884 - accuracy: 0.5530 - val_loss: 0.6819 - val_accuracy: 0.5725\n",
      "Epoch 2/30\n",
      "33/33 [==============================] - 0s 12ms/step - loss: 0.6778 - accuracy: 0.5780 - val_loss: 0.6811 - val_accuracy: 0.5725\n",
      "Epoch 3/30\n",
      "33/33 [==============================] - 0s 11ms/step - loss: 0.6709 - accuracy: 0.5780 - val_loss: 0.6802 - val_accuracy: 0.5725\n",
      "Epoch 4/30\n",
      "33/33 [==============================] - 0s 11ms/step - loss: 0.6615 - accuracy: 0.5780 - val_loss: 0.6781 - val_accuracy: 0.5725\n",
      "Epoch 5/30\n",
      "33/33 [==============================] - 0s 11ms/step - loss: 0.6362 - accuracy: 0.5925 - val_loss: 0.6692 - val_accuracy: 0.5725\n",
      "Epoch 6/30\n",
      "33/33 [==============================] - 0s 11ms/step - loss: 0.5862 - accuracy: 0.7341 - val_loss: 0.6599 - val_accuracy: 0.5840\n",
      "Epoch 7/30\n",
      "33/33 [==============================] - 0s 11ms/step - loss: 0.5227 - accuracy: 0.7832 - val_loss: 0.6478 - val_accuracy: 0.6260\n",
      "Epoch 8/30\n",
      "33/33 [==============================] - 0s 11ms/step - loss: 0.4187 - accuracy: 0.8401 - val_loss: 0.6576 - val_accuracy: 0.6489\n",
      "Epoch 9/30\n",
      "33/33 [==============================] - 0s 11ms/step - loss: 0.3242 - accuracy: 0.8825 - val_loss: 0.6648 - val_accuracy: 0.6832\n",
      "Epoch 10/30\n",
      "33/33 [==============================] - 0s 11ms/step - loss: 0.2489 - accuracy: 0.9085 - val_loss: 0.6099 - val_accuracy: 0.6641\n",
      "Epoch 11/30\n",
      "33/33 [==============================] - 0s 11ms/step - loss: 0.1897 - accuracy: 0.9345 - val_loss: 0.6217 - val_accuracy: 0.6908\n",
      "Epoch 12/30\n",
      "33/33 [==============================] - 0s 12ms/step - loss: 0.1541 - accuracy: 0.9547 - val_loss: 0.6428 - val_accuracy: 0.6870\n",
      "Epoch 13/30\n",
      "33/33 [==============================] - 0s 12ms/step - loss: 0.1289 - accuracy: 0.9509 - val_loss: 0.7248 - val_accuracy: 0.6832\n",
      "Epoch 14/30\n",
      "33/33 [==============================] - 0s 13ms/step - loss: 0.1012 - accuracy: 0.9663 - val_loss: 0.6755 - val_accuracy: 0.6832\n",
      "Epoch 15/30\n",
      "33/33 [==============================] - 0s 13ms/step - loss: 0.0863 - accuracy: 0.9721 - val_loss: 0.6855 - val_accuracy: 0.6832\n",
      "Epoch 16/30\n",
      "33/33 [==============================] - 0s 11ms/step - loss: 0.0777 - accuracy: 0.9759 - val_loss: 0.6703 - val_accuracy: 0.6947\n",
      "Epoch 17/30\n",
      "33/33 [==============================] - 0s 11ms/step - loss: 0.0578 - accuracy: 0.9865 - val_loss: 0.6876 - val_accuracy: 0.6985\n",
      "Epoch 18/30\n",
      "33/33 [==============================] - 0s 12ms/step - loss: 0.0484 - accuracy: 0.9836 - val_loss: 0.6942 - val_accuracy: 0.6908\n",
      "Epoch 19/30\n",
      "33/33 [==============================] - 0s 12ms/step - loss: 0.0402 - accuracy: 0.9884 - val_loss: 0.7334 - val_accuracy: 0.7023\n",
      "Epoch 20/30\n",
      "33/33 [==============================] - 0s 11ms/step - loss: 0.0526 - accuracy: 0.9788 - val_loss: 0.6496 - val_accuracy: 0.7023\n",
      "Epoch 21/30\n",
      "33/33 [==============================] - 0s 11ms/step - loss: 0.0438 - accuracy: 0.9846 - val_loss: 0.7549 - val_accuracy: 0.7061\n",
      "Epoch 22/30\n",
      "33/33 [==============================] - 0s 12ms/step - loss: 0.0442 - accuracy: 0.9836 - val_loss: 0.7041 - val_accuracy: 0.7099\n",
      "Epoch 23/30\n",
      "33/33 [==============================] - 0s 12ms/step - loss: 0.0266 - accuracy: 0.9942 - val_loss: 0.7029 - val_accuracy: 0.7176\n",
      "Epoch 24/30\n",
      "33/33 [==============================] - 0s 13ms/step - loss: 0.0241 - accuracy: 0.9933 - val_loss: 0.7276 - val_accuracy: 0.7176\n",
      "Epoch 25/30\n",
      "33/33 [==============================] - 0s 12ms/step - loss: 0.0265 - accuracy: 0.9894 - val_loss: 0.7558 - val_accuracy: 0.7061\n",
      "Epoch 26/30\n",
      "33/33 [==============================] - 0s 12ms/step - loss: 0.0186 - accuracy: 0.9961 - val_loss: 0.6936 - val_accuracy: 0.7443\n",
      "Epoch 27/30\n",
      "33/33 [==============================] - 0s 12ms/step - loss: 0.0227 - accuracy: 0.9913 - val_loss: 0.7145 - val_accuracy: 0.7290\n",
      "Epoch 28/30\n",
      "33/33 [==============================] - 0s 12ms/step - loss: 0.0149 - accuracy: 0.9971 - val_loss: 0.7286 - val_accuracy: 0.7252\n",
      "Epoch 29/30\n",
      "33/33 [==============================] - 0s 11ms/step - loss: 0.0227 - accuracy: 0.9942 - val_loss: 0.8578 - val_accuracy: 0.7137\n",
      "Epoch 30/30\n",
      "33/33 [==============================] - 0s 13ms/step - loss: 0.0198 - accuracy: 0.9952 - val_loss: 0.7143 - val_accuracy: 0.7214\n"
     ]
    }
   ],
   "source": [
    "history = model.fit(X_train, Y_train,\n",
    "                     epochs=30,\n",
    "                     verbose=1,\n",
    "                     validation_data=(X_test, Y_test),\n",
    "                     batch_size=32,\n",
    "                    callbacks=callbacks)"
   ]
  },
  {
   "cell_type": "code",
   "execution_count": null,
   "metadata": {
    "colab": {
     "base_uri": "https://localhost:8080/"
    },
    "id": "rImyJZbiRBpw",
    "outputId": "c2dda619-cd9f-4a3b-817c-df898be745c8"
   },
   "outputs": [
    {
     "name": "stdout",
     "output_type": "stream",
     "text": [
      "              precision    recall  f1-score   support\n",
      "\n",
      "           F       0.75      0.61      0.67       112\n",
      "           R       0.74      0.85      0.79       150\n",
      "\n",
      "    accuracy                           0.74       262\n",
      "   macro avg       0.74      0.73      0.73       262\n",
      "weighted avg       0.74      0.74      0.74       262\n",
      "\n"
     ]
    }
   ],
   "source": [
    "model.load_weights(model_save_path)\n",
    "class_names = df_train.label.unique()\n",
    "y_pred = model.predict(X_test)>0.5\n",
    "y_pred = [str(x[0]).replace(\"False\",\"0\").replace(\"True\",\"1\") for x in y_pred]\n",
    "y_pred = [int(x) for x in y_pred]\n",
    "\n",
    "y_pred = le.inverse_transform(y_pred)\n",
    "print(classification_report(df_val_Label,y_pred))"
   ]
  },
  {
   "cell_type": "code",
   "execution_count": null,
   "metadata": {
    "id": "VnueWphERBu2"
   },
   "outputs": [],
   "source": []
  },
  {
   "cell_type": "code",
   "execution_count": null,
   "metadata": {
    "colab": {
     "base_uri": "https://localhost:8080/"
    },
    "id": "tZrOzmRfRBwk",
    "outputId": "928d1e5e-364f-4e27-d78b-923d5328c5a8"
   },
   "outputs": [
    {
     "name": "stdout",
     "output_type": "stream",
     "text": [
      "Model: \"sequential_4\"\n",
      "_________________________________________________________________\n",
      "Layer (type)                 Output Shape              Param #   \n",
      "=================================================================\n",
      "embedding_3 (Embedding)      (None, 512, 50)           1024850   \n",
      "_________________________________________________________________\n",
      "conv1d_1 (Conv1D)            (None, 512, 64)           9664      \n",
      "_________________________________________________________________\n",
      "global_max_pooling1d_2 (Glob (None, 64)                0         \n",
      "_________________________________________________________________\n",
      "dropout_1 (Dropout)          (None, 64)                0         \n",
      "_________________________________________________________________\n",
      "dense_13 (Dense)             (None, 128)               8320      \n",
      "_________________________________________________________________\n",
      "dense_14 (Dense)             (None, 64)                8256      \n",
      "_________________________________________________________________\n",
      "dense_15 (Dense)             (None, 1)                 65        \n",
      "=================================================================\n",
      "Total params: 1,051,155\n",
      "Trainable params: 1,051,155\n",
      "Non-trainable params: 0\n",
      "_________________________________________________________________\n"
     ]
    }
   ],
   "source": [
    "embedding_dim = 50\n",
    "\n",
    "model = Sequential()\n",
    "model.add(layers.Embedding(vocab_size, embedding_dim, input_length=maxlen))\n",
    "\n",
    "model.add(layers.Conv1D(64,kernel_size=3,padding='same',activation='relu',strides=1))\n",
    "model.add(layers.GlobalMaxPooling1D())\n",
    "model.add(layers.Dropout(0.4))\n",
    "model.add(layers.Dense(128, activation='relu'))\n",
    "model.add(layers.Dense(64, activation='relu'))\n",
    "model.add(layers.Dense(1, activation='sigmoid'))\n",
    "\n",
    "optimizer = tf.keras.optimizers.Adam(learning_rate=3e-4)\n",
    "model.compile(optimizer=optimizer,\n",
    "              loss='binary_crossentropy',\n",
    "              metrics=['accuracy'])\n",
    "model.summary()"
   ]
  },
  {
   "cell_type": "code",
   "execution_count": null,
   "metadata": {
    "id": "WS3LbRtZRByF"
   },
   "outputs": [],
   "source": [
    "model_save_path='/content/m5'\n",
    "\n",
    "callbacks = [keras.callbacks.ModelCheckpoint(filepath=model_save_path,save_weights_only=True,monitor='val_accuracy',mode='max',save_best_only=True)]"
   ]
  },
  {
   "cell_type": "code",
   "execution_count": null,
   "metadata": {
    "colab": {
     "base_uri": "https://localhost:8080/"
    },
    "id": "CeTVFdMP9uOl",
    "outputId": "d1fe706d-29de-44dc-d1be-27fa53c79971"
   },
   "outputs": [
    {
     "name": "stdout",
     "output_type": "stream",
     "text": [
      "Epoch 1/30\n",
      "33/33 [==============================] - 1s 18ms/step - loss: 0.6889 - accuracy: 0.5424 - val_loss: 0.6838 - val_accuracy: 0.5725\n",
      "Epoch 2/30\n",
      "33/33 [==============================] - 0s 11ms/step - loss: 0.6798 - accuracy: 0.5780 - val_loss: 0.6815 - val_accuracy: 0.5725\n",
      "Epoch 3/30\n",
      "33/33 [==============================] - 0s 11ms/step - loss: 0.6746 - accuracy: 0.5780 - val_loss: 0.6808 - val_accuracy: 0.5725\n",
      "Epoch 4/30\n",
      "33/33 [==============================] - 0s 10ms/step - loss: 0.6686 - accuracy: 0.5780 - val_loss: 0.6793 - val_accuracy: 0.5725\n",
      "Epoch 5/30\n",
      "33/33 [==============================] - 0s 9ms/step - loss: 0.6631 - accuracy: 0.5780 - val_loss: 0.6767 - val_accuracy: 0.5725\n",
      "Epoch 6/30\n",
      "33/33 [==============================] - 0s 11ms/step - loss: 0.6483 - accuracy: 0.5780 - val_loss: 0.6733 - val_accuracy: 0.5725\n",
      "Epoch 7/30\n",
      "33/33 [==============================] - 0s 11ms/step - loss: 0.6250 - accuracy: 0.5886 - val_loss: 0.6682 - val_accuracy: 0.5725\n",
      "Epoch 8/30\n",
      "33/33 [==============================] - 0s 10ms/step - loss: 0.5762 - accuracy: 0.6590 - val_loss: 0.6459 - val_accuracy: 0.6260\n",
      "Epoch 9/30\n",
      "33/33 [==============================] - 0s 11ms/step - loss: 0.5157 - accuracy: 0.7967 - val_loss: 0.6366 - val_accuracy: 0.6069\n",
      "Epoch 10/30\n",
      "33/33 [==============================] - 0s 11ms/step - loss: 0.4228 - accuracy: 0.8516 - val_loss: 0.6160 - val_accuracy: 0.6450\n",
      "Epoch 11/30\n",
      "33/33 [==============================] - 0s 10ms/step - loss: 0.3407 - accuracy: 0.8719 - val_loss: 0.6119 - val_accuracy: 0.6718\n",
      "Epoch 12/30\n",
      "33/33 [==============================] - 0s 9ms/step - loss: 0.2515 - accuracy: 0.9220 - val_loss: 0.6590 - val_accuracy: 0.6870\n",
      "Epoch 13/30\n",
      "33/33 [==============================] - 0s 10ms/step - loss: 0.2084 - accuracy: 0.9364 - val_loss: 0.6546 - val_accuracy: 0.6832\n",
      "Epoch 14/30\n",
      "33/33 [==============================] - 0s 10ms/step - loss: 0.1645 - accuracy: 0.9422 - val_loss: 0.6322 - val_accuracy: 0.6756\n",
      "Epoch 15/30\n",
      "33/33 [==============================] - 0s 10ms/step - loss: 0.1267 - accuracy: 0.9586 - val_loss: 0.6885 - val_accuracy: 0.6947\n",
      "Epoch 16/30\n",
      "33/33 [==============================] - 0s 9ms/step - loss: 0.1058 - accuracy: 0.9653 - val_loss: 0.6893 - val_accuracy: 0.6908\n",
      "Epoch 17/30\n",
      "33/33 [==============================] - 0s 9ms/step - loss: 0.1062 - accuracy: 0.9634 - val_loss: 0.6598 - val_accuracy: 0.6908\n",
      "Epoch 18/30\n",
      "33/33 [==============================] - 0s 10ms/step - loss: 0.0862 - accuracy: 0.9730 - val_loss: 0.6491 - val_accuracy: 0.6794\n",
      "Epoch 19/30\n",
      "33/33 [==============================] - 0s 9ms/step - loss: 0.0666 - accuracy: 0.9836 - val_loss: 0.6783 - val_accuracy: 0.7023\n",
      "Epoch 20/30\n",
      "33/33 [==============================] - 0s 9ms/step - loss: 0.0503 - accuracy: 0.9884 - val_loss: 0.6852 - val_accuracy: 0.7099\n",
      "Epoch 21/30\n",
      "33/33 [==============================] - 0s 10ms/step - loss: 0.0468 - accuracy: 0.9894 - val_loss: 0.6727 - val_accuracy: 0.6947\n",
      "Epoch 22/30\n",
      "33/33 [==============================] - 0s 11ms/step - loss: 0.0444 - accuracy: 0.9884 - val_loss: 0.7550 - val_accuracy: 0.7061\n",
      "Epoch 23/30\n",
      "33/33 [==============================] - 0s 11ms/step - loss: 0.0304 - accuracy: 0.9933 - val_loss: 0.7320 - val_accuracy: 0.7023\n",
      "Epoch 24/30\n",
      "33/33 [==============================] - 0s 9ms/step - loss: 0.0332 - accuracy: 0.9913 - val_loss: 0.7185 - val_accuracy: 0.6908\n",
      "Epoch 25/30\n",
      "33/33 [==============================] - 0s 9ms/step - loss: 0.0272 - accuracy: 0.9904 - val_loss: 0.7512 - val_accuracy: 0.7099\n",
      "Epoch 26/30\n",
      "33/33 [==============================] - 0s 11ms/step - loss: 0.0191 - accuracy: 0.9981 - val_loss: 0.7703 - val_accuracy: 0.7137\n",
      "Epoch 27/30\n",
      "33/33 [==============================] - 0s 12ms/step - loss: 0.0170 - accuracy: 0.9952 - val_loss: 0.7521 - val_accuracy: 0.7137\n",
      "Epoch 28/30\n",
      "33/33 [==============================] - 0s 9ms/step - loss: 0.0178 - accuracy: 0.9961 - val_loss: 0.7772 - val_accuracy: 0.6947\n",
      "Epoch 29/30\n",
      "33/33 [==============================] - 0s 11ms/step - loss: 0.0196 - accuracy: 0.9933 - val_loss: 0.8256 - val_accuracy: 0.7137\n",
      "Epoch 30/30\n",
      "33/33 [==============================] - 0s 9ms/step - loss: 0.0168 - accuracy: 0.9961 - val_loss: 0.8100 - val_accuracy: 0.7023\n"
     ]
    }
   ],
   "source": [
    "history = model.fit(X_train, Y_train,\n",
    "                     epochs=30,\n",
    "                     verbose=1,\n",
    "                     validation_data=(X_test, Y_test),\n",
    "                     batch_size=32,\n",
    "                    callbacks=callbacks)"
   ]
  },
  {
   "cell_type": "code",
   "execution_count": null,
   "metadata": {
    "colab": {
     "base_uri": "https://localhost:8080/"
    },
    "id": "hHm48KEO9uQt",
    "outputId": "0a6a7111-a943-489c-b51d-11c95b0c9a23"
   },
   "outputs": [
    {
     "name": "stdout",
     "output_type": "stream",
     "text": [
      "              precision    recall  f1-score   support\n",
      "\n",
      "           F       0.70      0.57      0.63       112\n",
      "           R       0.72      0.82      0.77       150\n",
      "\n",
      "    accuracy                           0.71       262\n",
      "   macro avg       0.71      0.70      0.70       262\n",
      "weighted avg       0.71      0.71      0.71       262\n",
      "\n"
     ]
    }
   ],
   "source": [
    "model.load_weights(model_save_path)\n",
    "import keras\n",
    "class_names = df_train.label.unique()\n",
    "y_pred = model.predict(X_test)>0.5\n",
    "y_pred = [str(x[0]).replace(\"False\",\"0\").replace(\"True\",\"1\") for x in y_pred]\n",
    "y_pred = [int(x) for x in y_pred]\n",
    "\n",
    "y_pred = le.inverse_transform(y_pred)\n",
    "print(classification_report(df_val_Label,y_pred))"
   ]
  },
  {
   "cell_type": "code",
   "execution_count": null,
   "metadata": {
    "id": "2cyCggkE9uTE"
   },
   "outputs": [],
   "source": []
  },
  {
   "cell_type": "code",
   "execution_count": null,
   "metadata": {
    "id": "nh29JIZ29uUz"
   },
   "outputs": [],
   "source": []
  },
  {
   "cell_type": "markdown",
   "metadata": {
    "id": "05n0pNqNddQ_"
   },
   "source": [
    "## BILSTM"
   ]
  },
  {
   "cell_type": "code",
   "execution_count": null,
   "metadata": {
    "colab": {
     "base_uri": "https://localhost:8080/"
    },
    "id": "HtB-Mu5tRBzc",
    "outputId": "45a15cfd-61fb-46ae-f548-86fe7c1dcf24"
   },
   "outputs": [
    {
     "name": "stdout",
     "output_type": "stream",
     "text": [
      "Model: \"sequential_5\"\n",
      "_________________________________________________________________\n",
      "Layer (type)                 Output Shape              Param #   \n",
      "=================================================================\n",
      "embedding_4 (Embedding)      (None, 512, 100)          2049700   \n",
      "_________________________________________________________________\n",
      "bidirectional (Bidirectional (None, 512, 512)          731136    \n",
      "_________________________________________________________________\n",
      "global_max_pooling1d_3 (Glob (None, 512)               0         \n",
      "_________________________________________________________________\n",
      "batch_normalization (BatchNo (None, 512)               2048      \n",
      "_________________________________________________________________\n",
      "dropout_2 (Dropout)          (None, 512)               0         \n",
      "_________________________________________________________________\n",
      "dense_16 (Dense)             (None, 20)                10260     \n",
      "_________________________________________________________________\n",
      "dropout_3 (Dropout)          (None, 20)                0         \n",
      "_________________________________________________________________\n",
      "dense_17 (Dense)             (None, 2)                 42        \n",
      "_________________________________________________________________\n",
      "dense_18 (Dense)             (None, 1)                 3         \n",
      "=================================================================\n",
      "Total params: 2,793,189\n",
      "Trainable params: 2,792,165\n",
      "Non-trainable params: 1,024\n",
      "_________________________________________________________________\n"
     ]
    }
   ],
   "source": [
    "embedding_dim = 100\n",
    "max_len = 512\n",
    "\n",
    "model = Sequential()\n",
    "\n",
    "model.add(layers.Embedding(vocab_size, embedding_dim, input_length=maxlen))\n",
    "\n",
    "model.add(keras.layers.Bidirectional(keras.layers.LSTM(256, return_sequences=True)))\n",
    "\n",
    "model.add(layers.GlobalMaxPooling1D())\n",
    "model.add(layers.BatchNormalization())\n",
    "model.add(layers.Dropout(0.5))\n",
    "\n",
    "model.add(layers.Dense(20, activation='relu'))\n",
    "model.add(layers.Dropout(0.3))\n",
    "\n",
    "model.add(layers.Dense(2, activation='softmax'))\n",
    "\n",
    "model.add(layers.Dense(1, activation='sigmoid'))\n",
    "\n",
    "optimizer = tf.keras.optimizers.Adam(learning_rate=3e-4)\n",
    "model.compile(optimizer=optimizer,\n",
    "              loss='binary_crossentropy',\n",
    "              metrics=['accuracy'])\n",
    "model.summary()"
   ]
  },
  {
   "cell_type": "code",
   "execution_count": null,
   "metadata": {
    "id": "5XN39QLmRB1V"
   },
   "outputs": [],
   "source": [
    "model_save_path='/content/m6'\n",
    "\n",
    "callbacks = [keras.callbacks.ModelCheckpoint(filepath=model_save_path,save_weights_only=True,monitor='val_accuracy',mode='max',save_best_only=True)]"
   ]
  },
  {
   "cell_type": "code",
   "execution_count": null,
   "metadata": {
    "colab": {
     "base_uri": "https://localhost:8080/"
    },
    "id": "HzBDVKfaRB3N",
    "outputId": "472f78f0-eb43-4470-eaa3-67f9b407db3d"
   },
   "outputs": [
    {
     "name": "stdout",
     "output_type": "stream",
     "text": [
      "Epoch 1/50\n",
      "33/33 [==============================] - 15s 311ms/step - loss: 0.6808 - accuracy: 0.5780 - val_loss: 0.6837 - val_accuracy: 0.5725\n",
      "Epoch 2/50\n",
      "33/33 [==============================] - 9s 286ms/step - loss: 0.6770 - accuracy: 0.5780 - val_loss: 0.6833 - val_accuracy: 0.5725\n",
      "Epoch 3/50\n",
      "33/33 [==============================] - 9s 287ms/step - loss: 0.6706 - accuracy: 0.5780 - val_loss: 0.6823 - val_accuracy: 0.5725\n",
      "Epoch 4/50\n",
      "33/33 [==============================] - 9s 287ms/step - loss: 0.6663 - accuracy: 0.5780 - val_loss: 0.6815 - val_accuracy: 0.5725\n",
      "Epoch 5/50\n",
      "33/33 [==============================] - 9s 288ms/step - loss: 0.6522 - accuracy: 0.5780 - val_loss: 0.6824 - val_accuracy: 0.5725\n",
      "Epoch 6/50\n",
      "33/33 [==============================] - 9s 288ms/step - loss: 0.6401 - accuracy: 0.5780 - val_loss: 0.6886 - val_accuracy: 0.5725\n",
      "Epoch 7/50\n",
      "33/33 [==============================] - 9s 289ms/step - loss: 0.6287 - accuracy: 0.5780 - val_loss: 0.6898 - val_accuracy: 0.5725\n",
      "Epoch 8/50\n",
      "33/33 [==============================] - 9s 286ms/step - loss: 0.6210 - accuracy: 0.5780 - val_loss: 0.6776 - val_accuracy: 0.5725\n",
      "Epoch 9/50\n",
      "33/33 [==============================] - 9s 287ms/step - loss: 0.6118 - accuracy: 0.5780 - val_loss: 0.6754 - val_accuracy: 0.5725\n",
      "Epoch 10/50\n",
      "33/33 [==============================] - 9s 288ms/step - loss: 0.6029 - accuracy: 0.5780 - val_loss: 0.6861 - val_accuracy: 0.5725\n",
      "Epoch 11/50\n",
      "33/33 [==============================] - 9s 288ms/step - loss: 0.5945 - accuracy: 0.6204 - val_loss: 0.6526 - val_accuracy: 0.5725\n",
      "Epoch 12/50\n",
      "33/33 [==============================] - 9s 287ms/step - loss: 0.5898 - accuracy: 0.9335 - val_loss: 0.6849 - val_accuracy: 0.5725\n",
      "Epoch 13/50\n",
      "33/33 [==============================] - 9s 288ms/step - loss: 0.5834 - accuracy: 0.9451 - val_loss: 0.6860 - val_accuracy: 0.5725\n",
      "Epoch 14/50\n",
      "33/33 [==============================] - 9s 287ms/step - loss: 0.5787 - accuracy: 0.9509 - val_loss: 0.6471 - val_accuracy: 0.6603\n",
      "Epoch 15/50\n",
      "33/33 [==============================] - 9s 286ms/step - loss: 0.5724 - accuracy: 0.9605 - val_loss: 0.6594 - val_accuracy: 0.7023\n",
      "Epoch 16/50\n",
      "33/33 [==============================] - 9s 287ms/step - loss: 0.5662 - accuracy: 0.9663 - val_loss: 0.6879 - val_accuracy: 0.5725\n",
      "Epoch 17/50\n",
      "33/33 [==============================] - 9s 287ms/step - loss: 0.5655 - accuracy: 0.9528 - val_loss: 0.6982 - val_accuracy: 0.4275\n",
      "Epoch 18/50\n",
      "33/33 [==============================] - 9s 287ms/step - loss: 0.5590 - accuracy: 0.9663 - val_loss: 0.6407 - val_accuracy: 0.6947\n",
      "Epoch 19/50\n",
      "33/33 [==============================] - 9s 287ms/step - loss: 0.5517 - accuracy: 0.9701 - val_loss: 0.6620 - val_accuracy: 0.6260\n",
      "Epoch 20/50\n",
      "33/33 [==============================] - 9s 288ms/step - loss: 0.5501 - accuracy: 0.9711 - val_loss: 0.6889 - val_accuracy: 0.5725\n",
      "Epoch 21/50\n",
      "33/33 [==============================] - 9s 287ms/step - loss: 0.5432 - accuracy: 0.9750 - val_loss: 0.6879 - val_accuracy: 0.4924\n",
      "Epoch 22/50\n",
      "33/33 [==============================] - 9s 288ms/step - loss: 0.5364 - accuracy: 0.9836 - val_loss: 0.6359 - val_accuracy: 0.6947\n",
      "Epoch 23/50\n",
      "33/33 [==============================] - 9s 288ms/step - loss: 0.5337 - accuracy: 0.9817 - val_loss: 0.6592 - val_accuracy: 0.6489\n",
      "Epoch 24/50\n",
      "33/33 [==============================] - 9s 287ms/step - loss: 0.5286 - accuracy: 0.9827 - val_loss: 0.6241 - val_accuracy: 0.6947\n",
      "Epoch 25/50\n",
      "33/33 [==============================] - 9s 286ms/step - loss: 0.5245 - accuracy: 0.9836 - val_loss: 0.6520 - val_accuracy: 0.6107\n",
      "Epoch 26/50\n",
      "33/33 [==============================] - 9s 287ms/step - loss: 0.5198 - accuracy: 0.9827 - val_loss: 0.6275 - val_accuracy: 0.7061\n",
      "Epoch 27/50\n",
      "33/33 [==============================] - 9s 288ms/step - loss: 0.5173 - accuracy: 0.9817 - val_loss: 0.6776 - val_accuracy: 0.6069\n",
      "Epoch 28/50\n",
      "33/33 [==============================] - 9s 288ms/step - loss: 0.5129 - accuracy: 0.9827 - val_loss: 0.6293 - val_accuracy: 0.7023\n",
      "Epoch 29/50\n",
      "33/33 [==============================] - 9s 287ms/step - loss: 0.5103 - accuracy: 0.9788 - val_loss: 0.6254 - val_accuracy: 0.7099\n",
      "Epoch 30/50\n",
      "33/33 [==============================] - 9s 288ms/step - loss: 0.5051 - accuracy: 0.9836 - val_loss: 0.6359 - val_accuracy: 0.6870\n",
      "Epoch 31/50\n",
      "33/33 [==============================] - 9s 287ms/step - loss: 0.4991 - accuracy: 0.9904 - val_loss: 0.6251 - val_accuracy: 0.7137\n",
      "Epoch 32/50\n",
      "33/33 [==============================] - 9s 288ms/step - loss: 0.4969 - accuracy: 0.9827 - val_loss: 0.6686 - val_accuracy: 0.5611\n",
      "Epoch 33/50\n",
      "33/33 [==============================] - 9s 289ms/step - loss: 0.4934 - accuracy: 0.9827 - val_loss: 0.7019 - val_accuracy: 0.5725\n",
      "Epoch 34/50\n",
      "33/33 [==============================] - 9s 287ms/step - loss: 0.4916 - accuracy: 0.9817 - val_loss: 0.6284 - val_accuracy: 0.6947\n",
      "Epoch 35/50\n",
      "33/33 [==============================] - 9s 287ms/step - loss: 0.4897 - accuracy: 0.9769 - val_loss: 0.7039 - val_accuracy: 0.5725\n",
      "Epoch 36/50\n",
      "33/33 [==============================] - 9s 288ms/step - loss: 0.4828 - accuracy: 0.9865 - val_loss: 0.6180 - val_accuracy: 0.7023\n",
      "Epoch 37/50\n",
      "33/33 [==============================] - 9s 288ms/step - loss: 0.4817 - accuracy: 0.9778 - val_loss: 0.7177 - val_accuracy: 0.4313\n",
      "Epoch 38/50\n",
      "33/33 [==============================] - 9s 288ms/step - loss: 0.4767 - accuracy: 0.9817 - val_loss: 0.6834 - val_accuracy: 0.5229\n",
      "Epoch 39/50\n",
      "33/33 [==============================] - 9s 288ms/step - loss: 0.4721 - accuracy: 0.9875 - val_loss: 0.6218 - val_accuracy: 0.6679\n",
      "Epoch 40/50\n",
      "33/33 [==============================] - 9s 287ms/step - loss: 0.4693 - accuracy: 0.9836 - val_loss: 0.6518 - val_accuracy: 0.6641\n",
      "Epoch 41/50\n",
      "33/33 [==============================] - 9s 288ms/step - loss: 0.4648 - accuracy: 0.9855 - val_loss: 0.7080 - val_accuracy: 0.5763\n",
      "Epoch 42/50\n",
      "33/33 [==============================] - 9s 288ms/step - loss: 0.4639 - accuracy: 0.9836 - val_loss: 0.7111 - val_accuracy: 0.5725\n",
      "Epoch 43/50\n",
      "33/33 [==============================] - 9s 287ms/step - loss: 0.4578 - accuracy: 0.9875 - val_loss: 0.6091 - val_accuracy: 0.7176\n",
      "Epoch 44/50\n",
      "33/33 [==============================] - 9s 288ms/step - loss: 0.4551 - accuracy: 0.9884 - val_loss: 0.6918 - val_accuracy: 0.5992\n",
      "Epoch 45/50\n",
      "33/33 [==============================] - 9s 287ms/step - loss: 0.4508 - accuracy: 0.9894 - val_loss: 0.7145 - val_accuracy: 0.5725\n",
      "Epoch 46/50\n",
      "33/33 [==============================] - 9s 288ms/step - loss: 0.4488 - accuracy: 0.9875 - val_loss: 0.6164 - val_accuracy: 0.6794\n",
      "Epoch 47/50\n",
      "33/33 [==============================] - 9s 288ms/step - loss: 0.4445 - accuracy: 0.9894 - val_loss: 0.6040 - val_accuracy: 0.6908\n",
      "Epoch 48/50\n",
      "33/33 [==============================] - 9s 288ms/step - loss: 0.4437 - accuracy: 0.9836 - val_loss: 0.5993 - val_accuracy: 0.7176\n",
      "Epoch 49/50\n",
      "33/33 [==============================] - 9s 288ms/step - loss: 0.4505 - accuracy: 0.9692 - val_loss: 0.7190 - val_accuracy: 0.5725\n",
      "Epoch 50/50\n",
      "33/33 [==============================] - 9s 287ms/step - loss: 0.4413 - accuracy: 0.9798 - val_loss: 0.6522 - val_accuracy: 0.6565\n"
     ]
    }
   ],
   "source": [
    "history = model.fit(X_train, Y_train,\n",
    "                     epochs=50,\n",
    "                     verbose=1,\n",
    "                     validation_data=(X_test, Y_test),\n",
    "                     batch_size=32,\n",
    "                    callbacks = callbacks)"
   ]
  },
  {
   "cell_type": "code",
   "execution_count": null,
   "metadata": {
    "colab": {
     "base_uri": "https://localhost:8080/"
    },
    "id": "LB9Fx3-KRB44",
    "outputId": "12e05659-7252-4b5e-a6ac-4b691dad6550"
   },
   "outputs": [
    {
     "name": "stdout",
     "output_type": "stream",
     "text": [
      "              precision    recall  f1-score   support\n",
      "\n",
      "           F       0.71      0.57      0.63       112\n",
      "           R       0.72      0.83      0.77       150\n",
      "\n",
      "    accuracy                           0.72       262\n",
      "   macro avg       0.72      0.70      0.70       262\n",
      "weighted avg       0.72      0.72      0.71       262\n",
      "\n"
     ]
    }
   ],
   "source": [
    "model.load_weights(model_save_path)\n",
    "\n",
    "class_names = df_train.label.unique()\n",
    "y_pred = model.predict(X_test)>0.5\n",
    "y_pred = [str(x[0]).replace(\"False\",\"0\").replace(\"True\",\"1\") for x in y_pred]\n",
    "y_pred = [int(x) for x in y_pred]\n",
    "\n",
    "y_pred = le.inverse_transform(y_pred)\n",
    "print(classification_report(df_val_Label,y_pred))"
   ]
  },
  {
   "cell_type": "code",
   "execution_count": null,
   "metadata": {
    "id": "sB3ghGGyRB74"
   },
   "outputs": [],
   "source": []
  },
  {
   "cell_type": "markdown",
   "metadata": {
    "id": "yl9lugf8-EsK"
   },
   "source": [
    "####Reduced dimension to 50"
   ]
  },
  {
   "cell_type": "code",
   "execution_count": null,
   "metadata": {
    "colab": {
     "base_uri": "https://localhost:8080/"
    },
    "id": "Gta-wUlFRB9R",
    "outputId": "649f33c9-1929-49c1-aba8-a6a9ae101d8b"
   },
   "outputs": [
    {
     "name": "stdout",
     "output_type": "stream",
     "text": [
      "Model: \"sequential_6\"\n",
      "_________________________________________________________________\n",
      "Layer (type)                 Output Shape              Param #   \n",
      "=================================================================\n",
      "embedding_5 (Embedding)      (None, 512, 50)           1024850   \n",
      "_________________________________________________________________\n",
      "bidirectional_1 (Bidirection (None, 512, 512)          628736    \n",
      "_________________________________________________________________\n",
      "global_max_pooling1d_4 (Glob (None, 512)               0         \n",
      "_________________________________________________________________\n",
      "batch_normalization_1 (Batch (None, 512)               2048      \n",
      "_________________________________________________________________\n",
      "dropout_4 (Dropout)          (None, 512)               0         \n",
      "_________________________________________________________________\n",
      "dense_19 (Dense)             (None, 20)                10260     \n",
      "_________________________________________________________________\n",
      "dropout_5 (Dropout)          (None, 20)                0         \n",
      "_________________________________________________________________\n",
      "dense_20 (Dense)             (None, 2)                 42        \n",
      "_________________________________________________________________\n",
      "dense_21 (Dense)             (None, 1)                 3         \n",
      "=================================================================\n",
      "Total params: 1,665,939\n",
      "Trainable params: 1,664,915\n",
      "Non-trainable params: 1,024\n",
      "_________________________________________________________________\n"
     ]
    }
   ],
   "source": [
    "embedding_dim = 50\n",
    "max_len = 120\n",
    "\n",
    "model = Sequential()\n",
    "\n",
    "model.add(layers.Embedding(vocab_size, embedding_dim, input_length=maxlen))\n",
    "\n",
    "model.add(keras.layers.Bidirectional(keras.layers.LSTM(256, return_sequences=True)))\n",
    "\n",
    "model.add(layers.GlobalMaxPooling1D())\n",
    "model.add(layers.BatchNormalization())\n",
    "model.add(layers.Dropout(0.5))\n",
    "\n",
    "model.add(layers.Dense(20, activation='relu'))\n",
    "model.add(layers.Dropout(0.3))\n",
    "\n",
    "model.add(layers.Dense(2, activation='softmax'))\n",
    "\n",
    "model.add(layers.Dense(1, activation='sigmoid'))\n",
    "\n",
    "optimizer = tf.keras.optimizers.Adam(learning_rate=3e-4)\n",
    "model.compile(optimizer=optimizer,\n",
    "              loss='binary_crossentropy',\n",
    "              metrics=['accuracy'])\n",
    "model.summary()"
   ]
  },
  {
   "cell_type": "code",
   "execution_count": null,
   "metadata": {
    "id": "PbwCwzQtRB-y"
   },
   "outputs": [],
   "source": [
    "model_save_path='/content/m7'\n",
    "\n",
    "callbacks = [keras.callbacks.ModelCheckpoint(filepath=model_save_path,save_weights_only=True,monitor='val_accuracy',mode='max',save_best_only=True)]"
   ]
  },
  {
   "cell_type": "code",
   "execution_count": null,
   "metadata": {
    "colab": {
     "base_uri": "https://localhost:8080/",
     "height": 1000
    },
    "id": "RWbBexG_Zlb1",
    "outputId": "37c769ab-be06-430f-8be5-bba7848987bc"
   },
   "outputs": [
    {
     "name": "stdout",
     "output_type": "stream",
     "text": [
      "Epoch 1/100\n",
      "33/33 [==============================] - 14s 308ms/step - loss: 0.6769 - accuracy: 0.5751 - val_loss: 0.6844 - val_accuracy: 0.5725\n",
      "Epoch 2/100\n",
      "33/33 [==============================] - 9s 283ms/step - loss: 0.6537 - accuracy: 0.6551 - val_loss: 0.6820 - val_accuracy: 0.5725\n",
      "Epoch 3/100\n",
      "33/33 [==============================] - 9s 283ms/step - loss: 0.6182 - accuracy: 0.7303 - val_loss: 0.6790 - val_accuracy: 0.5725\n",
      "Epoch 4/100\n",
      "33/33 [==============================] - 9s 284ms/step - loss: 0.6005 - accuracy: 0.7351 - val_loss: 0.7318 - val_accuracy: 0.5725\n",
      "Epoch 5/100\n",
      "33/33 [==============================] - 9s 284ms/step - loss: 0.5536 - accuracy: 0.7977 - val_loss: 0.7284 - val_accuracy: 0.5725\n",
      "Epoch 6/100\n",
      "33/33 [==============================] - 9s 283ms/step - loss: 0.4868 - accuracy: 0.8362 - val_loss: 0.8164 - val_accuracy: 0.4275\n",
      "Epoch 7/100\n",
      "33/33 [==============================] - 9s 284ms/step - loss: 0.4913 - accuracy: 0.8266 - val_loss: 0.7883 - val_accuracy: 0.4275\n",
      "Epoch 8/100\n",
      "33/33 [==============================] - 9s 285ms/step - loss: 0.4469 - accuracy: 0.8921 - val_loss: 0.8014 - val_accuracy: 0.4275\n",
      "Epoch 9/100\n",
      "33/33 [==============================] - 9s 284ms/step - loss: 0.3898 - accuracy: 0.9432 - val_loss: 0.7586 - val_accuracy: 0.4313\n",
      "Epoch 10/100\n",
      "33/33 [==============================] - 9s 283ms/step - loss: 0.3890 - accuracy: 0.9393 - val_loss: 0.8190 - val_accuracy: 0.4275\n",
      "Epoch 11/100\n",
      "33/33 [==============================] - 9s 283ms/step - loss: 0.3721 - accuracy: 0.9566 - val_loss: 0.8334 - val_accuracy: 0.4275\n",
      "Epoch 12/100\n",
      "33/33 [==============================] - 9s 283ms/step - loss: 0.3685 - accuracy: 0.9576 - val_loss: 0.7416 - val_accuracy: 0.4809\n",
      "Epoch 13/100\n",
      "33/33 [==============================] - 9s 282ms/step - loss: 0.3487 - accuracy: 0.9653 - val_loss: 0.6284 - val_accuracy: 0.6489\n",
      "Epoch 14/100\n",
      "33/33 [==============================] - 9s 283ms/step - loss: 0.3342 - accuracy: 0.9759 - val_loss: 0.7484 - val_accuracy: 0.5763\n",
      "Epoch 15/100\n",
      "33/33 [==============================] - 9s 284ms/step - loss: 0.3219 - accuracy: 0.9875 - val_loss: 0.6639 - val_accuracy: 0.6565\n",
      "Epoch 16/100\n",
      "33/33 [==============================] - 9s 283ms/step - loss: 0.3104 - accuracy: 0.9952 - val_loss: 0.6102 - val_accuracy: 0.7061\n",
      "Epoch 17/100\n",
      "33/33 [==============================] - 9s 283ms/step - loss: 0.3227 - accuracy: 0.9788 - val_loss: 0.7790 - val_accuracy: 0.5725\n",
      "Epoch 18/100\n",
      "33/33 [==============================] - 9s 283ms/step - loss: 0.3168 - accuracy: 0.9875 - val_loss: 0.7813 - val_accuracy: 0.5725\n",
      "Epoch 19/100\n",
      "33/33 [==============================] - 9s 283ms/step - loss: 0.3059 - accuracy: 0.9942 - val_loss: 0.7908 - val_accuracy: 0.4847\n",
      "Epoch 20/100\n",
      "33/33 [==============================] - 9s 284ms/step - loss: 0.3040 - accuracy: 0.9884 - val_loss: 0.7862 - val_accuracy: 0.5725\n",
      "Epoch 21/100\n",
      "33/33 [==============================] - 9s 284ms/step - loss: 0.2952 - accuracy: 0.9952 - val_loss: 0.7319 - val_accuracy: 0.6107\n",
      "Epoch 22/100\n",
      "33/33 [==============================] - 9s 283ms/step - loss: 0.2924 - accuracy: 0.9942 - val_loss: 0.7846 - val_accuracy: 0.5763\n",
      "Epoch 23/100\n",
      "33/33 [==============================] - 9s 283ms/step - loss: 0.2875 - accuracy: 0.9961 - val_loss: 0.6672 - val_accuracy: 0.6679\n",
      "Epoch 24/100\n",
      "33/33 [==============================] - 9s 283ms/step - loss: 0.2872 - accuracy: 0.9933 - val_loss: 0.7335 - val_accuracy: 0.6145\n",
      "Epoch 25/100\n",
      "33/33 [==============================] - 9s 283ms/step - loss: 0.2851 - accuracy: 0.9933 - val_loss: 0.7589 - val_accuracy: 0.6031\n",
      "Epoch 26/100\n",
      "33/33 [==============================] - 9s 283ms/step - loss: 0.2817 - accuracy: 0.9942 - val_loss: 0.6205 - val_accuracy: 0.7023\n",
      "Epoch 27/100\n",
      "33/33 [==============================] - 9s 283ms/step - loss: 0.2787 - accuracy: 0.9952 - val_loss: 0.6268 - val_accuracy: 0.6870\n",
      "Epoch 28/100\n",
      "33/33 [==============================] - 9s 283ms/step - loss: 0.2787 - accuracy: 0.9933 - val_loss: 0.6327 - val_accuracy: 0.6908\n",
      "Epoch 29/100\n",
      "33/33 [==============================] - 9s 283ms/step - loss: 0.2753 - accuracy: 0.9942 - val_loss: 0.6433 - val_accuracy: 0.6527\n",
      "Epoch 30/100\n",
      "33/33 [==============================] - 9s 283ms/step - loss: 0.2771 - accuracy: 0.9884 - val_loss: 0.6414 - val_accuracy: 0.6908\n",
      "Epoch 31/100\n",
      "24/33 [====================>.........] - ETA: 2s - loss: 0.2709 - accuracy: 0.9961"
     ]
    },
    {
     "ename": "KeyboardInterrupt",
     "evalue": "ignored",
     "output_type": "error",
     "traceback": [
      "\u001b[0;31m---------------------------------------------------------------------------\u001b[0m",
      "\u001b[0;31mKeyboardInterrupt\u001b[0m                         Traceback (most recent call last)",
      "\u001b[0;32m<ipython-input-39-cdd81f0dc83d>\u001b[0m in \u001b[0;36m<module>\u001b[0;34m()\u001b[0m\n\u001b[1;32m      4\u001b[0m                      \u001b[0mvalidation_data\u001b[0m\u001b[0;34m=\u001b[0m\u001b[0;34m(\u001b[0m\u001b[0mX_test\u001b[0m\u001b[0;34m,\u001b[0m \u001b[0mY_test\u001b[0m\u001b[0;34m)\u001b[0m\u001b[0;34m,\u001b[0m\u001b[0;34m\u001b[0m\u001b[0;34m\u001b[0m\u001b[0m\n\u001b[1;32m      5\u001b[0m                      \u001b[0mbatch_size\u001b[0m\u001b[0;34m=\u001b[0m\u001b[0;36m32\u001b[0m\u001b[0;34m,\u001b[0m\u001b[0;34m\u001b[0m\u001b[0;34m\u001b[0m\u001b[0m\n\u001b[0;32m----> 6\u001b[0;31m                     callbacks=callbacks)\n\u001b[0m",
      "\u001b[0;32m/usr/local/lib/python3.7/dist-packages/keras/engine/training.py\u001b[0m in \u001b[0;36mfit\u001b[0;34m(self, x, y, batch_size, epochs, verbose, callbacks, validation_split, validation_data, shuffle, class_weight, sample_weight, initial_epoch, steps_per_epoch, validation_steps, validation_batch_size, validation_freq, max_queue_size, workers, use_multiprocessing)\u001b[0m\n\u001b[1;32m   1182\u001b[0m                 _r=1):\n\u001b[1;32m   1183\u001b[0m               \u001b[0mcallbacks\u001b[0m\u001b[0;34m.\u001b[0m\u001b[0mon_train_batch_begin\u001b[0m\u001b[0;34m(\u001b[0m\u001b[0mstep\u001b[0m\u001b[0;34m)\u001b[0m\u001b[0;34m\u001b[0m\u001b[0;34m\u001b[0m\u001b[0m\n\u001b[0;32m-> 1184\u001b[0;31m               \u001b[0mtmp_logs\u001b[0m \u001b[0;34m=\u001b[0m \u001b[0mself\u001b[0m\u001b[0;34m.\u001b[0m\u001b[0mtrain_function\u001b[0m\u001b[0;34m(\u001b[0m\u001b[0miterator\u001b[0m\u001b[0;34m)\u001b[0m\u001b[0;34m\u001b[0m\u001b[0;34m\u001b[0m\u001b[0m\n\u001b[0m\u001b[1;32m   1185\u001b[0m               \u001b[0;32mif\u001b[0m \u001b[0mdata_handler\u001b[0m\u001b[0;34m.\u001b[0m\u001b[0mshould_sync\u001b[0m\u001b[0;34m:\u001b[0m\u001b[0;34m\u001b[0m\u001b[0;34m\u001b[0m\u001b[0m\n\u001b[1;32m   1186\u001b[0m                 \u001b[0mcontext\u001b[0m\u001b[0;34m.\u001b[0m\u001b[0masync_wait\u001b[0m\u001b[0;34m(\u001b[0m\u001b[0;34m)\u001b[0m\u001b[0;34m\u001b[0m\u001b[0;34m\u001b[0m\u001b[0m\n",
      "\u001b[0;32m/usr/local/lib/python3.7/dist-packages/tensorflow/python/eager/def_function.py\u001b[0m in \u001b[0;36m__call__\u001b[0;34m(self, *args, **kwds)\u001b[0m\n\u001b[1;32m    883\u001b[0m \u001b[0;34m\u001b[0m\u001b[0m\n\u001b[1;32m    884\u001b[0m       \u001b[0;32mwith\u001b[0m \u001b[0mOptionalXlaContext\u001b[0m\u001b[0;34m(\u001b[0m\u001b[0mself\u001b[0m\u001b[0;34m.\u001b[0m\u001b[0m_jit_compile\u001b[0m\u001b[0;34m)\u001b[0m\u001b[0;34m:\u001b[0m\u001b[0;34m\u001b[0m\u001b[0;34m\u001b[0m\u001b[0m\n\u001b[0;32m--> 885\u001b[0;31m         \u001b[0mresult\u001b[0m \u001b[0;34m=\u001b[0m \u001b[0mself\u001b[0m\u001b[0;34m.\u001b[0m\u001b[0m_call\u001b[0m\u001b[0;34m(\u001b[0m\u001b[0;34m*\u001b[0m\u001b[0margs\u001b[0m\u001b[0;34m,\u001b[0m \u001b[0;34m**\u001b[0m\u001b[0mkwds\u001b[0m\u001b[0;34m)\u001b[0m\u001b[0;34m\u001b[0m\u001b[0;34m\u001b[0m\u001b[0m\n\u001b[0m\u001b[1;32m    886\u001b[0m \u001b[0;34m\u001b[0m\u001b[0m\n\u001b[1;32m    887\u001b[0m       \u001b[0mnew_tracing_count\u001b[0m \u001b[0;34m=\u001b[0m \u001b[0mself\u001b[0m\u001b[0;34m.\u001b[0m\u001b[0mexperimental_get_tracing_count\u001b[0m\u001b[0;34m(\u001b[0m\u001b[0;34m)\u001b[0m\u001b[0;34m\u001b[0m\u001b[0;34m\u001b[0m\u001b[0m\n",
      "\u001b[0;32m/usr/local/lib/python3.7/dist-packages/tensorflow/python/eager/def_function.py\u001b[0m in \u001b[0;36m_call\u001b[0;34m(self, *args, **kwds)\u001b[0m\n\u001b[1;32m    915\u001b[0m       \u001b[0;31m# In this case we have created variables on the first call, so we run the\u001b[0m\u001b[0;34m\u001b[0m\u001b[0;34m\u001b[0m\u001b[0;34m\u001b[0m\u001b[0m\n\u001b[1;32m    916\u001b[0m       \u001b[0;31m# defunned version which is guaranteed to never create variables.\u001b[0m\u001b[0;34m\u001b[0m\u001b[0;34m\u001b[0m\u001b[0;34m\u001b[0m\u001b[0m\n\u001b[0;32m--> 917\u001b[0;31m       \u001b[0;32mreturn\u001b[0m \u001b[0mself\u001b[0m\u001b[0;34m.\u001b[0m\u001b[0m_stateless_fn\u001b[0m\u001b[0;34m(\u001b[0m\u001b[0;34m*\u001b[0m\u001b[0margs\u001b[0m\u001b[0;34m,\u001b[0m \u001b[0;34m**\u001b[0m\u001b[0mkwds\u001b[0m\u001b[0;34m)\u001b[0m  \u001b[0;31m# pylint: disable=not-callable\u001b[0m\u001b[0;34m\u001b[0m\u001b[0;34m\u001b[0m\u001b[0m\n\u001b[0m\u001b[1;32m    918\u001b[0m     \u001b[0;32melif\u001b[0m \u001b[0mself\u001b[0m\u001b[0;34m.\u001b[0m\u001b[0m_stateful_fn\u001b[0m \u001b[0;32mis\u001b[0m \u001b[0;32mnot\u001b[0m \u001b[0;32mNone\u001b[0m\u001b[0;34m:\u001b[0m\u001b[0;34m\u001b[0m\u001b[0;34m\u001b[0m\u001b[0m\n\u001b[1;32m    919\u001b[0m       \u001b[0;31m# Release the lock early so that multiple threads can perform the call\u001b[0m\u001b[0;34m\u001b[0m\u001b[0;34m\u001b[0m\u001b[0;34m\u001b[0m\u001b[0m\n",
      "\u001b[0;32m/usr/local/lib/python3.7/dist-packages/tensorflow/python/eager/function.py\u001b[0m in \u001b[0;36m__call__\u001b[0;34m(self, *args, **kwargs)\u001b[0m\n\u001b[1;32m   3038\u001b[0m        filtered_flat_args) = self._maybe_define_function(args, kwargs)\n\u001b[1;32m   3039\u001b[0m     return graph_function._call_flat(\n\u001b[0;32m-> 3040\u001b[0;31m         filtered_flat_args, captured_inputs=graph_function.captured_inputs)  # pylint: disable=protected-access\n\u001b[0m\u001b[1;32m   3041\u001b[0m \u001b[0;34m\u001b[0m\u001b[0m\n\u001b[1;32m   3042\u001b[0m   \u001b[0;34m@\u001b[0m\u001b[0mproperty\u001b[0m\u001b[0;34m\u001b[0m\u001b[0;34m\u001b[0m\u001b[0m\n",
      "\u001b[0;32m/usr/local/lib/python3.7/dist-packages/tensorflow/python/eager/function.py\u001b[0m in \u001b[0;36m_call_flat\u001b[0;34m(self, args, captured_inputs, cancellation_manager)\u001b[0m\n\u001b[1;32m   1962\u001b[0m       \u001b[0;31m# No tape is watching; skip to running the function.\u001b[0m\u001b[0;34m\u001b[0m\u001b[0;34m\u001b[0m\u001b[0;34m\u001b[0m\u001b[0m\n\u001b[1;32m   1963\u001b[0m       return self._build_call_outputs(self._inference_function.call(\n\u001b[0;32m-> 1964\u001b[0;31m           ctx, args, cancellation_manager=cancellation_manager))\n\u001b[0m\u001b[1;32m   1965\u001b[0m     forward_backward = self._select_forward_and_backward_functions(\n\u001b[1;32m   1966\u001b[0m         \u001b[0margs\u001b[0m\u001b[0;34m,\u001b[0m\u001b[0;34m\u001b[0m\u001b[0;34m\u001b[0m\u001b[0m\n",
      "\u001b[0;32m/usr/local/lib/python3.7/dist-packages/tensorflow/python/eager/function.py\u001b[0m in \u001b[0;36mcall\u001b[0;34m(self, ctx, args, cancellation_manager)\u001b[0m\n\u001b[1;32m    594\u001b[0m               \u001b[0minputs\u001b[0m\u001b[0;34m=\u001b[0m\u001b[0margs\u001b[0m\u001b[0;34m,\u001b[0m\u001b[0;34m\u001b[0m\u001b[0;34m\u001b[0m\u001b[0m\n\u001b[1;32m    595\u001b[0m               \u001b[0mattrs\u001b[0m\u001b[0;34m=\u001b[0m\u001b[0mattrs\u001b[0m\u001b[0;34m,\u001b[0m\u001b[0;34m\u001b[0m\u001b[0;34m\u001b[0m\u001b[0m\n\u001b[0;32m--> 596\u001b[0;31m               ctx=ctx)\n\u001b[0m\u001b[1;32m    597\u001b[0m         \u001b[0;32melse\u001b[0m\u001b[0;34m:\u001b[0m\u001b[0;34m\u001b[0m\u001b[0;34m\u001b[0m\u001b[0m\n\u001b[1;32m    598\u001b[0m           outputs = execute.execute_with_cancellation(\n",
      "\u001b[0;32m/usr/local/lib/python3.7/dist-packages/tensorflow/python/eager/execute.py\u001b[0m in \u001b[0;36mquick_execute\u001b[0;34m(op_name, num_outputs, inputs, attrs, ctx, name)\u001b[0m\n\u001b[1;32m     58\u001b[0m     \u001b[0mctx\u001b[0m\u001b[0;34m.\u001b[0m\u001b[0mensure_initialized\u001b[0m\u001b[0;34m(\u001b[0m\u001b[0;34m)\u001b[0m\u001b[0;34m\u001b[0m\u001b[0;34m\u001b[0m\u001b[0m\n\u001b[1;32m     59\u001b[0m     tensors = pywrap_tfe.TFE_Py_Execute(ctx._handle, device_name, op_name,\n\u001b[0;32m---> 60\u001b[0;31m                                         inputs, attrs, num_outputs)\n\u001b[0m\u001b[1;32m     61\u001b[0m   \u001b[0;32mexcept\u001b[0m \u001b[0mcore\u001b[0m\u001b[0;34m.\u001b[0m\u001b[0m_NotOkStatusException\u001b[0m \u001b[0;32mas\u001b[0m \u001b[0me\u001b[0m\u001b[0;34m:\u001b[0m\u001b[0;34m\u001b[0m\u001b[0;34m\u001b[0m\u001b[0m\n\u001b[1;32m     62\u001b[0m     \u001b[0;32mif\u001b[0m \u001b[0mname\u001b[0m \u001b[0;32mis\u001b[0m \u001b[0;32mnot\u001b[0m \u001b[0;32mNone\u001b[0m\u001b[0;34m:\u001b[0m\u001b[0;34m\u001b[0m\u001b[0;34m\u001b[0m\u001b[0m\n",
      "\u001b[0;31mKeyboardInterrupt\u001b[0m: "
     ]
    }
   ],
   "source": [
    "history = model.fit(X_train, Y_train,\n",
    "                     epochs=30,\n",
    "                     verbose=1,\n",
    "                     validation_data=(X_test, Y_test),\n",
    "                     batch_size=32,\n",
    "                    callbacks=callbacks)"
   ]
  },
  {
   "cell_type": "code",
   "execution_count": null,
   "metadata": {
    "id": "gjUMSav7RCAl"
   },
   "outputs": [],
   "source": []
  },
  {
   "cell_type": "code",
   "execution_count": null,
   "metadata": {
    "colab": {
     "base_uri": "https://localhost:8080/"
    },
    "id": "mJXnQb34RCCQ",
    "outputId": "9550e663-92bb-464b-9648-c49aa049117f"
   },
   "outputs": [
    {
     "name": "stdout",
     "output_type": "stream",
     "text": [
      "              precision    recall  f1-score   support\n",
      "\n",
      "           F       0.81      0.41      0.54       112\n",
      "           R       0.68      0.93      0.78       150\n",
      "\n",
      "    accuracy                           0.71       262\n",
      "   macro avg       0.74      0.67      0.66       262\n",
      "weighted avg       0.73      0.71      0.68       262\n",
      "\n"
     ]
    }
   ],
   "source": [
    "model.load_weights(model_save_path)\n",
    "import keras\n",
    "class_names = df_train.label.unique()\n",
    "y_pred = model.predict(X_test)>0.5\n",
    "y_pred = [str(x[0]).replace(\"False\",\"0\").replace(\"True\",\"1\") for x in y_pred]\n",
    "y_pred = [int(x) for x in y_pred]\n",
    "\n",
    "y_pred = le.inverse_transform(y_pred)\n",
    "print(classification_report(df_val_Label,y_pred))"
   ]
  }
 ],
 "metadata": {
  "accelerator": "GPU",
  "colab": {
   "collapsed_sections": [],
   "name": "Hate Speech Detection DL.ipynb",
   "provenance": []
  },
  "kernelspec": {
   "display_name": "Python 3",
   "language": "python",
   "name": "python3"
  },
  "language_info": {
   "codemirror_mode": {
    "name": "ipython",
    "version": 3
   },
   "file_extension": ".py",
   "mimetype": "text/x-python",
   "name": "python",
   "nbconvert_exporter": "python",
   "pygments_lexer": "ipython3",
   "version": "3.8.8"
  }
 },
 "nbformat": 4,
 "nbformat_minor": 1
}
